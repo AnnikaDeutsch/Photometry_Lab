{
 "cells": [
  {
   "cell_type": "code",
   "execution_count": 1,
   "id": "819e4c3a",
   "metadata": {},
   "outputs": [
    {
     "name": "stdout",
     "output_type": "stream",
     "text": [
      "Filename: \\Users\\Thomas\\OneDrive\\Desktop\\2022-09-01\\Data2\\New_FITS_Headers\\WCS CCD Image 238.fits\n",
      "No.    Name      Ver    Type      Cards   Dimensions   Format\n",
      "  0  PRIMARY       1 PrimaryHDU     746   (2048, 512)   int16 (rescales to uint16)   \n",
      "\\Users\\Thomas\\OneDrive\\Desktop\\2022-09-01\\Data2\\New_FITS_Headers\\WCS CCD Image 238.fits\n"
     ]
    },
    {
     "data": {
      "text/plain": [
       "'H81'"
      ]
     },
     "execution_count": 1,
     "metadata": {},
     "output_type": "execute_result"
    }
   ],
   "source": [
    "import matplotlib.pyplot as plt\n",
    "import photutils\n",
    "import pandas as pd\n",
    "from astropy.visualization import astropy_mpl_style\n",
    "from astropy.visualization import simple_norm\n",
    "# plt.style.use(astropy_mpl_style)\n",
    "from astropy.utils.data import get_pkg_data_filename\n",
    "from astropy.io import fits\n",
    "import glob\n",
    "fpath = '/Users/Thomas/OneDrive/Desktop/2022-09-01/'\n",
    "mist = glob.glob(fpath+'Data2/New_FITS_Headers/'+'*.fits')\n",
    "\n",
    "image_file = get_pkg_data_filename(mist[2])\n",
    "fits.info(image_file)\n",
    "print(image_file)\n",
    "\n",
    "\n",
    "\n",
    "# observatory at 'H81'"
   ]
  },
  {
   "cell_type": "code",
   "execution_count": 37,
   "id": "1794ee39",
   "metadata": {},
   "outputs": [
    {
     "name": "stderr",
     "output_type": "stream",
     "text": [
      "WARNING: FITSFixedWarning: 'datfix' made the change 'Set MJD-OBS to 59824.168704 from DATE-OBS'. [astropy.wcs.wcs]\n"
     ]
    }
   ],
   "source": [
    "import astropy.units as u\n",
    "from astropy.wcs import WCS\n",
    "from astropy.coordinates import SkyCoord\n",
    "from photutils.aperture import SkyCircularAperture\n",
    "import numpy as np\n",
    "# from photutils.datasets import load_spitzer_image, load_spitzer_catalog\n",
    "# hdu = load_spitzer_image()  \n",
    "hdul = fits.open(image_file)\n",
    "hdu = hdul[0]\n",
    "image_data = fits.getdata(image_file, ext=0)\n",
    "# data = u.Quantity(hdu.data, unit=hdu.header['BUNIT'])  \n",
    "data = image_data\n",
    "\n",
    "\n",
    "wcs = WCS(hdu.header)  \n",
    "# catalog = load_spitzer_catalog() "
   ]
  },
  {
   "cell_type": "code",
   "execution_count": 15,
   "id": "55dc0892",
   "metadata": {},
   "outputs": [
    {
     "data": {
      "text/plain": [
       "2459824.5522569446"
      ]
     },
     "execution_count": 15,
     "metadata": {},
     "output_type": "execute_result"
    }
   ],
   "source": [
    "hdul[0].header['JD']"
   ]
  },
  {
   "cell_type": "code",
   "execution_count": 40,
   "id": "878c3667",
   "metadata": {},
   "outputs": [
    {
     "name": "stderr",
     "output_type": "stream",
     "text": [
      "WARNING: FITSFixedWarning: 'datfix' made the change 'Set MJD-OBS to 59824.051273 from DATE-OBS'. [astropy.wcs.wcs]\n"
     ]
    },
    {
     "name": "stdout",
     "output_type": "stream",
     "text": [
      "Aperture: SkyCircularAperture\n",
      "positions: <SkyCoord (ICRS): (ra, dec) in deg\n",
      "    (314.39829, -0.6908)>\n",
      "r: 4.8 arcsec\n"
     ]
    },
    {
     "name": "stderr",
     "output_type": "stream",
     "text": [
      "WARNING: FITSFixedWarning: 'datfix' made the change 'Set MJD-OBS to 59824.051771 from DATE-OBS'. [astropy.wcs.wcs]\n"
     ]
    },
    {
     "name": "stdout",
     "output_type": "stream",
     "text": [
      "Aperture: SkyCircularAperture\n",
      "positions: <SkyCoord (ICRS): (ra, dec) in deg\n",
      "    (314.39823, -0.69078)>\n",
      "r: 4.8 arcsec\n"
     ]
    },
    {
     "name": "stderr",
     "output_type": "stream",
     "text": [
      "WARNING: FITSFixedWarning: 'datfix' made the change 'Set MJD-OBS to 59824.052257 from DATE-OBS'. [astropy.wcs.wcs]\n"
     ]
    },
    {
     "name": "stdout",
     "output_type": "stream",
     "text": [
      "Aperture: SkyCircularAperture\n",
      "positions: <SkyCoord (ICRS): (ra, dec) in deg\n",
      "    (314.39817, -0.69076)>\n",
      "r: 4.8 arcsec\n"
     ]
    },
    {
     "name": "stderr",
     "output_type": "stream",
     "text": [
      "WARNING: FITSFixedWarning: 'datfix' made the change 'Set MJD-OBS to 59824.052743 from DATE-OBS'. [astropy.wcs.wcs]\n"
     ]
    },
    {
     "name": "stdout",
     "output_type": "stream",
     "text": [
      "Aperture: SkyCircularAperture\n",
      "positions: <SkyCoord (ICRS): (ra, dec) in deg\n",
      "    (314.39812, -0.69074)>\n",
      "r: 4.8 arcsec\n"
     ]
    },
    {
     "name": "stderr",
     "output_type": "stream",
     "text": [
      "WARNING: FITSFixedWarning: 'datfix' made the change 'Set MJD-OBS to 59824.053229 from DATE-OBS'. [astropy.wcs.wcs]\n"
     ]
    },
    {
     "name": "stdout",
     "output_type": "stream",
     "text": [
      "Aperture: SkyCircularAperture\n",
      "positions: <SkyCoord (ICRS): (ra, dec) in deg\n",
      "    (314.39806, -0.69072)>\n",
      "r: 4.8 arcsec\n"
     ]
    },
    {
     "name": "stderr",
     "output_type": "stream",
     "text": [
      "WARNING: FITSFixedWarning: 'datfix' made the change 'Set MJD-OBS to 59824.053715 from DATE-OBS'. [astropy.wcs.wcs]\n"
     ]
    },
    {
     "name": "stdout",
     "output_type": "stream",
     "text": [
      "Aperture: SkyCircularAperture\n",
      "positions: <SkyCoord (ICRS): (ra, dec) in deg\n",
      "    (314.39801, -0.69071)>\n",
      "r: 4.8 arcsec\n"
     ]
    },
    {
     "name": "stderr",
     "output_type": "stream",
     "text": [
      "WARNING: FITSFixedWarning: 'datfix' made the change 'Set MJD-OBS to 59824.054201 from DATE-OBS'. [astropy.wcs.wcs]\n"
     ]
    },
    {
     "name": "stdout",
     "output_type": "stream",
     "text": [
      "Aperture: SkyCircularAperture\n",
      "positions: <SkyCoord (ICRS): (ra, dec) in deg\n",
      "    (314.39795, -0.69069)>\n",
      "r: 4.8 arcsec\n"
     ]
    },
    {
     "name": "stderr",
     "output_type": "stream",
     "text": [
      "WARNING: FITSFixedWarning: 'datfix' made the change 'Set MJD-OBS to 59824.054688 from DATE-OBS'. [astropy.wcs.wcs]\n"
     ]
    },
    {
     "name": "stdout",
     "output_type": "stream",
     "text": [
      "Aperture: SkyCircularAperture\n",
      "positions: <SkyCoord (ICRS): (ra, dec) in deg\n",
      "    (314.39789, -0.69067)>\n",
      "r: 4.8 arcsec\n"
     ]
    },
    {
     "name": "stderr",
     "output_type": "stream",
     "text": [
      "WARNING: FITSFixedWarning: 'datfix' made the change 'Set MJD-OBS to 59824.055185 from DATE-OBS'. [astropy.wcs.wcs]\n"
     ]
    },
    {
     "name": "stdout",
     "output_type": "stream",
     "text": [
      "Aperture: SkyCircularAperture\n",
      "positions: <SkyCoord (ICRS): (ra, dec) in deg\n",
      "    (314.39784, -0.69065)>\n",
      "r: 4.8 arcsec\n"
     ]
    },
    {
     "name": "stderr",
     "output_type": "stream",
     "text": [
      "WARNING: FITSFixedWarning: 'datfix' made the change 'Set MJD-OBS to 59824.055671 from DATE-OBS'. [astropy.wcs.wcs]\n"
     ]
    },
    {
     "name": "stdout",
     "output_type": "stream",
     "text": [
      "Aperture: SkyCircularAperture\n",
      "positions: <SkyCoord (ICRS): (ra, dec) in deg\n",
      "    (314.39778, -0.69063)>\n",
      "r: 4.8 arcsec\n"
     ]
    },
    {
     "name": "stderr",
     "output_type": "stream",
     "text": [
      "WARNING: FITSFixedWarning: 'datfix' made the change 'Set MJD-OBS to 59824.056157 from DATE-OBS'. [astropy.wcs.wcs]\n"
     ]
    },
    {
     "name": "stdout",
     "output_type": "stream",
     "text": [
      "Aperture: SkyCircularAperture\n",
      "positions: <SkyCoord (ICRS): (ra, dec) in deg\n",
      "    (314.39773, -0.69061)>\n",
      "r: 4.8 arcsec\n"
     ]
    },
    {
     "name": "stderr",
     "output_type": "stream",
     "text": [
      "WARNING: FITSFixedWarning: 'datfix' made the change 'Set MJD-OBS to 59824.056644 from DATE-OBS'. [astropy.wcs.wcs]\n"
     ]
    },
    {
     "name": "stdout",
     "output_type": "stream",
     "text": [
      "Aperture: SkyCircularAperture\n",
      "positions: <SkyCoord (ICRS): (ra, dec) in deg\n",
      "    (314.39767, -0.6906)>\n",
      "r: 4.8 arcsec\n"
     ]
    },
    {
     "name": "stderr",
     "output_type": "stream",
     "text": [
      "WARNING: FITSFixedWarning: 'datfix' made the change 'Set MJD-OBS to 59824.057130 from DATE-OBS'. [astropy.wcs.wcs]\n"
     ]
    },
    {
     "name": "stdout",
     "output_type": "stream",
     "text": [
      "Aperture: SkyCircularAperture\n",
      "positions: <SkyCoord (ICRS): (ra, dec) in deg\n",
      "    (314.39761, -0.69058)>\n",
      "r: 4.8 arcsec\n"
     ]
    },
    {
     "name": "stderr",
     "output_type": "stream",
     "text": [
      "WARNING: FITSFixedWarning: 'datfix' made the change 'Set MJD-OBS to 59824.057616 from DATE-OBS'. [astropy.wcs.wcs]\n"
     ]
    },
    {
     "name": "stdout",
     "output_type": "stream",
     "text": [
      "Aperture: SkyCircularAperture\n",
      "positions: <SkyCoord (ICRS): (ra, dec) in deg\n",
      "    (314.39756, -0.69056)>\n",
      "r: 4.8 arcsec\n"
     ]
    },
    {
     "name": "stderr",
     "output_type": "stream",
     "text": [
      "WARNING: FITSFixedWarning: 'datfix' made the change 'Set MJD-OBS to 59824.058113 from DATE-OBS'. [astropy.wcs.wcs]\n"
     ]
    },
    {
     "name": "stdout",
     "output_type": "stream",
     "text": [
      "Aperture: SkyCircularAperture\n",
      "positions: <SkyCoord (ICRS): (ra, dec) in deg\n",
      "    (314.3975, -0.69054)>\n",
      "r: 4.8 arcsec\n"
     ]
    },
    {
     "name": "stderr",
     "output_type": "stream",
     "text": [
      "WARNING: FITSFixedWarning: 'datfix' made the change 'Set MJD-OBS to 59824.058600 from DATE-OBS'. [astropy.wcs.wcs]\n"
     ]
    },
    {
     "name": "stdout",
     "output_type": "stream",
     "text": [
      "Aperture: SkyCircularAperture\n",
      "positions: <SkyCoord (ICRS): (ra, dec) in deg\n",
      "    (314.39744, -0.69052)>\n",
      "r: 4.8 arcsec\n"
     ]
    },
    {
     "name": "stderr",
     "output_type": "stream",
     "text": [
      "WARNING: FITSFixedWarning: 'datfix' made the change 'Set MJD-OBS to 59824.059086 from DATE-OBS'. [astropy.wcs.wcs]\n"
     ]
    },
    {
     "name": "stdout",
     "output_type": "stream",
     "text": [
      "Aperture: SkyCircularAperture\n",
      "positions: <SkyCoord (ICRS): (ra, dec) in deg\n",
      "    (314.39739, -0.69051)>\n",
      "r: 4.8 arcsec\n"
     ]
    },
    {
     "name": "stderr",
     "output_type": "stream",
     "text": [
      "WARNING: FITSFixedWarning: 'datfix' made the change 'Set MJD-OBS to 59824.059572 from DATE-OBS'. [astropy.wcs.wcs]\n"
     ]
    },
    {
     "name": "stdout",
     "output_type": "stream",
     "text": [
      "Aperture: SkyCircularAperture\n",
      "positions: <SkyCoord (ICRS): (ra, dec) in deg\n",
      "    (314.39733, -0.69049)>\n",
      "r: 4.8 arcsec\n"
     ]
    },
    {
     "name": "stderr",
     "output_type": "stream",
     "text": [
      "WARNING: FITSFixedWarning: 'datfix' made the change 'Set MJD-OBS to 59824.060058 from DATE-OBS'. [astropy.wcs.wcs]\n"
     ]
    },
    {
     "name": "stdout",
     "output_type": "stream",
     "text": [
      "Aperture: SkyCircularAperture\n",
      "positions: <SkyCoord (ICRS): (ra, dec) in deg\n",
      "    (314.39728, -0.69047)>\n",
      "r: 4.8 arcsec\n"
     ]
    },
    {
     "name": "stderr",
     "output_type": "stream",
     "text": [
      "WARNING: FITSFixedWarning: 'datfix' made the change 'Set MJD-OBS to 59824.060556 from DATE-OBS'. [astropy.wcs.wcs]\n"
     ]
    },
    {
     "name": "stdout",
     "output_type": "stream",
     "text": [
      "Aperture: SkyCircularAperture\n",
      "positions: <SkyCoord (ICRS): (ra, dec) in deg\n",
      "    (314.39722, -0.69045)>\n",
      "r: 4.8 arcsec\n"
     ]
    },
    {
     "name": "stderr",
     "output_type": "stream",
     "text": [
      "WARNING: FITSFixedWarning: 'datfix' made the change 'Set MJD-OBS to 59824.061042 from DATE-OBS'. [astropy.wcs.wcs]\n"
     ]
    },
    {
     "name": "stdout",
     "output_type": "stream",
     "text": [
      "Aperture: SkyCircularAperture\n",
      "positions: <SkyCoord (ICRS): (ra, dec) in deg\n",
      "    (314.39716, -0.69043)>\n",
      "r: 4.8 arcsec\n"
     ]
    },
    {
     "name": "stderr",
     "output_type": "stream",
     "text": [
      "WARNING: FITSFixedWarning: 'datfix' made the change 'Set MJD-OBS to 59824.061528 from DATE-OBS'. [astropy.wcs.wcs]\n"
     ]
    },
    {
     "name": "stdout",
     "output_type": "stream",
     "text": [
      "Aperture: SkyCircularAperture\n",
      "positions: <SkyCoord (ICRS): (ra, dec) in deg\n",
      "    (314.39711, -0.69041)>\n",
      "r: 4.8 arcsec\n"
     ]
    },
    {
     "name": "stderr",
     "output_type": "stream",
     "text": [
      "WARNING: FITSFixedWarning: 'datfix' made the change 'Set MJD-OBS to 59824.062014 from DATE-OBS'. [astropy.wcs.wcs]\n"
     ]
    },
    {
     "name": "stdout",
     "output_type": "stream",
     "text": [
      "Aperture: SkyCircularAperture\n",
      "positions: <SkyCoord (ICRS): (ra, dec) in deg\n",
      "    (314.39705, -0.6904)>\n",
      "r: 4.8 arcsec\n"
     ]
    },
    {
     "name": "stderr",
     "output_type": "stream",
     "text": [
      "WARNING: FITSFixedWarning: 'datfix' made the change 'Set MJD-OBS to 59824.062500 from DATE-OBS'. [astropy.wcs.wcs]\n"
     ]
    },
    {
     "name": "stdout",
     "output_type": "stream",
     "text": [
      "Aperture: SkyCircularAperture\n",
      "positions: <SkyCoord (ICRS): (ra, dec) in deg\n",
      "    (314.397, -0.69038)>\n",
      "r: 4.8 arcsec\n"
     ]
    },
    {
     "name": "stderr",
     "output_type": "stream",
     "text": [
      "WARNING: FITSFixedWarning: 'datfix' made the change 'Set MJD-OBS to 59824.062986 from DATE-OBS'. [astropy.wcs.wcs]\n"
     ]
    },
    {
     "name": "stdout",
     "output_type": "stream",
     "text": [
      "Aperture: SkyCircularAperture\n",
      "positions: <SkyCoord (ICRS): (ra, dec) in deg\n",
      "    (314.39694, -0.69036)>\n",
      "r: 4.8 arcsec\n"
     ]
    },
    {
     "name": "stderr",
     "output_type": "stream",
     "text": [
      "WARNING: FITSFixedWarning: 'datfix' made the change 'Set MJD-OBS to 59824.063484 from DATE-OBS'. [astropy.wcs.wcs]\n"
     ]
    },
    {
     "name": "stdout",
     "output_type": "stream",
     "text": [
      "Aperture: SkyCircularAperture\n",
      "positions: <SkyCoord (ICRS): (ra, dec) in deg\n",
      "    (314.39688, -0.69034)>\n",
      "r: 4.8 arcsec\n"
     ]
    },
    {
     "name": "stderr",
     "output_type": "stream",
     "text": [
      "WARNING: FITSFixedWarning: 'datfix' made the change 'Set MJD-OBS to 59824.063970 from DATE-OBS'. [astropy.wcs.wcs]\n",
      "WARNING: FITSFixedWarning: 'datfix' made the change 'Set MJD-OBS to 59824.064456 from DATE-OBS'. [astropy.wcs.wcs]\n"
     ]
    },
    {
     "name": "stdout",
     "output_type": "stream",
     "text": [
      "Aperture: SkyCircularAperture\n",
      "positions: <SkyCoord (ICRS): (ra, dec) in deg\n",
      "    (314.39683, -0.69032)>\n",
      "r: 4.8 arcsec\n",
      "Aperture: SkyCircularAperture\n",
      "positions: <SkyCoord (ICRS): (ra, dec) in deg\n",
      "    (314.39677, -0.69031)>\n",
      "r: 4.8 arcsec\n"
     ]
    },
    {
     "name": "stderr",
     "output_type": "stream",
     "text": [
      "WARNING: FITSFixedWarning: 'datfix' made the change 'Set MJD-OBS to 59824.064942 from DATE-OBS'. [astropy.wcs.wcs]\n"
     ]
    },
    {
     "name": "stdout",
     "output_type": "stream",
     "text": [
      "Aperture: SkyCircularAperture\n",
      "positions: <SkyCoord (ICRS): (ra, dec) in deg\n",
      "    (314.39672, -0.69029)>\n",
      "r: 4.8 arcsec\n"
     ]
    },
    {
     "name": "stderr",
     "output_type": "stream",
     "text": [
      "WARNING: FITSFixedWarning: 'datfix' made the change 'Set MJD-OBS to 59824.065428 from DATE-OBS'. [astropy.wcs.wcs]\n"
     ]
    },
    {
     "name": "stdout",
     "output_type": "stream",
     "text": [
      "Aperture: SkyCircularAperture\n",
      "positions: <SkyCoord (ICRS): (ra, dec) in deg\n",
      "    (314.39666, -0.69027)>\n",
      "r: 4.8 arcsec\n"
     ]
    },
    {
     "name": "stderr",
     "output_type": "stream",
     "text": [
      "WARNING: FITSFixedWarning: 'datfix' made the change 'Set MJD-OBS to 59824.065926 from DATE-OBS'. [astropy.wcs.wcs]\n"
     ]
    },
    {
     "name": "stdout",
     "output_type": "stream",
     "text": [
      "Aperture: SkyCircularAperture\n",
      "positions: <SkyCoord (ICRS): (ra, dec) in deg\n",
      "    (314.3966, -0.69025)>\n",
      "r: 4.8 arcsec\n"
     ]
    },
    {
     "name": "stderr",
     "output_type": "stream",
     "text": [
      "WARNING: FITSFixedWarning: 'datfix' made the change 'Set MJD-OBS to 59824.066412 from DATE-OBS'. [astropy.wcs.wcs]\n"
     ]
    },
    {
     "name": "stdout",
     "output_type": "stream",
     "text": [
      "Aperture: SkyCircularAperture\n",
      "positions: <SkyCoord (ICRS): (ra, dec) in deg\n",
      "    (314.39655, -0.69023)>\n",
      "r: 4.8 arcsec\n"
     ]
    },
    {
     "name": "stderr",
     "output_type": "stream",
     "text": [
      "WARNING: FITSFixedWarning: 'datfix' made the change 'Set MJD-OBS to 59824.066898 from DATE-OBS'. [astropy.wcs.wcs]\n",
      "WARNING: FITSFixedWarning: 'datfix' made the change 'Set MJD-OBS to 59824.067384 from DATE-OBS'. [astropy.wcs.wcs]\n"
     ]
    },
    {
     "name": "stdout",
     "output_type": "stream",
     "text": [
      "Aperture: SkyCircularAperture\n",
      "positions: <SkyCoord (ICRS): (ra, dec) in deg\n",
      "    (314.39649, -0.69021)>\n",
      "r: 4.8 arcsec\n",
      "Aperture: SkyCircularAperture\n",
      "positions: <SkyCoord (ICRS): (ra, dec) in deg\n",
      "    (314.39643, -0.6902)>\n",
      "r: 4.8 arcsec\n"
     ]
    },
    {
     "name": "stderr",
     "output_type": "stream",
     "text": [
      "WARNING: FITSFixedWarning: 'datfix' made the change 'Set MJD-OBS to 59824.067870 from DATE-OBS'. [astropy.wcs.wcs]\n"
     ]
    },
    {
     "name": "stdout",
     "output_type": "stream",
     "text": [
      "Aperture: SkyCircularAperture\n",
      "positions: <SkyCoord (ICRS): (ra, dec) in deg\n",
      "    (314.39638, -0.69018)>\n",
      "r: 4.8 arcsec\n"
     ]
    },
    {
     "name": "stderr",
     "output_type": "stream",
     "text": [
      "WARNING: FITSFixedWarning: 'datfix' made the change 'Set MJD-OBS to 59824.068356 from DATE-OBS'. [astropy.wcs.wcs]\n"
     ]
    },
    {
     "name": "stdout",
     "output_type": "stream",
     "text": [
      "Aperture: SkyCircularAperture\n",
      "positions: <SkyCoord (ICRS): (ra, dec) in deg\n",
      "    (314.39632, -0.69016)>\n",
      "r: 4.8 arcsec\n"
     ]
    },
    {
     "name": "stderr",
     "output_type": "stream",
     "text": [
      "WARNING: FITSFixedWarning: 'datfix' made the change 'Set MJD-OBS to 59824.068854 from DATE-OBS'. [astropy.wcs.wcs]\n"
     ]
    },
    {
     "name": "stdout",
     "output_type": "stream",
     "text": [
      "Aperture: SkyCircularAperture\n",
      "positions: <SkyCoord (ICRS): (ra, dec) in deg\n",
      "    (314.39626, -0.69014)>\n",
      "r: 4.8 arcsec\n"
     ]
    },
    {
     "name": "stderr",
     "output_type": "stream",
     "text": [
      "WARNING: FITSFixedWarning: 'datfix' made the change 'Set MJD-OBS to 59824.069340 from DATE-OBS'. [astropy.wcs.wcs]\n"
     ]
    },
    {
     "name": "stdout",
     "output_type": "stream",
     "text": [
      "Aperture: SkyCircularAperture\n",
      "positions: <SkyCoord (ICRS): (ra, dec) in deg\n",
      "    (314.39621, -0.69012)>\n",
      "r: 4.8 arcsec\n"
     ]
    },
    {
     "name": "stderr",
     "output_type": "stream",
     "text": [
      "WARNING: FITSFixedWarning: 'datfix' made the change 'Set MJD-OBS to 59824.069826 from DATE-OBS'. [astropy.wcs.wcs]\n"
     ]
    },
    {
     "name": "stdout",
     "output_type": "stream",
     "text": [
      "Aperture: SkyCircularAperture\n",
      "positions: <SkyCoord (ICRS): (ra, dec) in deg\n",
      "    (314.39615, -0.69011)>\n",
      "r: 4.8 arcsec\n"
     ]
    },
    {
     "name": "stderr",
     "output_type": "stream",
     "text": [
      "WARNING: FITSFixedWarning: 'datfix' made the change 'Set MJD-OBS to 59824.070313 from DATE-OBS'. [astropy.wcs.wcs]\n"
     ]
    },
    {
     "name": "stdout",
     "output_type": "stream",
     "text": [
      "Aperture: SkyCircularAperture\n",
      "positions: <SkyCoord (ICRS): (ra, dec) in deg\n",
      "    (314.3961, -0.69009)>\n",
      "r: 4.8 arcsec\n"
     ]
    },
    {
     "name": "stderr",
     "output_type": "stream",
     "text": [
      "WARNING: FITSFixedWarning: 'datfix' made the change 'Set MJD-OBS to 59824.070799 from DATE-OBS'. [astropy.wcs.wcs]\n"
     ]
    },
    {
     "name": "stdout",
     "output_type": "stream",
     "text": [
      "Aperture: SkyCircularAperture\n",
      "positions: <SkyCoord (ICRS): (ra, dec) in deg\n",
      "    (314.39604, -0.69007)>\n",
      "r: 4.8 arcsec\n",
      "Aperture: SkyCircularAperture\n",
      "positions: <SkyCoord (ICRS): (ra, dec) in deg\n",
      "    (314.39598, -0.69005)>\n",
      "r: 4.8 arcsec\n"
     ]
    },
    {
     "name": "stderr",
     "output_type": "stream",
     "text": [
      "WARNING: FITSFixedWarning: 'datfix' made the change 'Set MJD-OBS to 59824.071296 from DATE-OBS'. [astropy.wcs.wcs]\n",
      "WARNING: FITSFixedWarning: 'datfix' made the change 'Set MJD-OBS to 59824.071782 from DATE-OBS'. [astropy.wcs.wcs]\n"
     ]
    },
    {
     "name": "stdout",
     "output_type": "stream",
     "text": [
      "Aperture: SkyCircularAperture\n",
      "positions: <SkyCoord (ICRS): (ra, dec) in deg\n",
      "    (314.39593, -0.69003)>\n",
      "r: 4.8 arcsec\n"
     ]
    },
    {
     "name": "stderr",
     "output_type": "stream",
     "text": [
      "WARNING: FITSFixedWarning: 'datfix' made the change 'Set MJD-OBS to 59824.072269 from DATE-OBS'. [astropy.wcs.wcs]\n"
     ]
    },
    {
     "name": "stdout",
     "output_type": "stream",
     "text": [
      "Aperture: SkyCircularAperture\n",
      "positions: <SkyCoord (ICRS): (ra, dec) in deg\n",
      "    (314.39587, -0.69001)>\n",
      "r: 4.8 arcsec\n"
     ]
    },
    {
     "name": "stderr",
     "output_type": "stream",
     "text": [
      "WARNING: FITSFixedWarning: 'datfix' made the change 'Set MJD-OBS to 59824.072755 from DATE-OBS'. [astropy.wcs.wcs]\n"
     ]
    },
    {
     "name": "stdout",
     "output_type": "stream",
     "text": [
      "Aperture: SkyCircularAperture\n",
      "positions: <SkyCoord (ICRS): (ra, dec) in deg\n",
      "    (314.39582, -0.69)>\n",
      "r: 4.8 arcsec\n"
     ]
    },
    {
     "name": "stderr",
     "output_type": "stream",
     "text": [
      "WARNING: FITSFixedWarning: 'datfix' made the change 'Set MJD-OBS to 59824.073241 from DATE-OBS'. [astropy.wcs.wcs]\n"
     ]
    },
    {
     "name": "stdout",
     "output_type": "stream",
     "text": [
      "Aperture: SkyCircularAperture\n",
      "positions: <SkyCoord (ICRS): (ra, dec) in deg\n",
      "    (314.39576, -0.68998)>\n",
      "r: 4.8 arcsec\n"
     ]
    },
    {
     "name": "stderr",
     "output_type": "stream",
     "text": [
      "WARNING: FITSFixedWarning: 'datfix' made the change 'Set MJD-OBS to 59824.073727 from DATE-OBS'. [astropy.wcs.wcs]\n",
      "WARNING: FITSFixedWarning: 'datfix' made the change 'Set MJD-OBS to 59824.074225 from DATE-OBS'. [astropy.wcs.wcs]\n"
     ]
    },
    {
     "name": "stdout",
     "output_type": "stream",
     "text": [
      "Aperture: SkyCircularAperture\n",
      "positions: <SkyCoord (ICRS): (ra, dec) in deg\n",
      "    (314.3957, -0.68996)>\n",
      "r: 4.8 arcsec\n",
      "Aperture: SkyCircularAperture\n",
      "positions: <SkyCoord (ICRS): (ra, dec) in deg\n",
      "    (314.39565, -0.68994)>\n",
      "r: 4.8 arcsec\n"
     ]
    },
    {
     "name": "stderr",
     "output_type": "stream",
     "text": [
      "WARNING: FITSFixedWarning: 'datfix' made the change 'Set MJD-OBS to 59824.074711 from DATE-OBS'. [astropy.wcs.wcs]\n"
     ]
    },
    {
     "name": "stdout",
     "output_type": "stream",
     "text": [
      "Aperture: SkyCircularAperture\n",
      "positions: <SkyCoord (ICRS): (ra, dec) in deg\n",
      "    (314.39559, -0.68992)>\n",
      "r: 4.8 arcsec\n",
      "Aperture: SkyCircularAperture\n",
      "positions: <SkyCoord (ICRS): (ra, dec) in deg\n",
      "    (314.39553, -0.6899)>\n",
      "r: 4.8 arcsec\n"
     ]
    },
    {
     "name": "stderr",
     "output_type": "stream",
     "text": [
      "WARNING: FITSFixedWarning: 'datfix' made the change 'Set MJD-OBS to 59824.075197 from DATE-OBS'. [astropy.wcs.wcs]\n",
      "WARNING: FITSFixedWarning: 'datfix' made the change 'Set MJD-OBS to 59824.075683 from DATE-OBS'. [astropy.wcs.wcs]\n"
     ]
    },
    {
     "name": "stdout",
     "output_type": "stream",
     "text": [
      "Aperture: SkyCircularAperture\n",
      "positions: <SkyCoord (ICRS): (ra, dec) in deg\n",
      "    (314.39548, -0.68989)>\n",
      "r: 4.8 arcsec\n"
     ]
    },
    {
     "name": "stderr",
     "output_type": "stream",
     "text": [
      "WARNING: FITSFixedWarning: 'datfix' made the change 'Set MJD-OBS to 59824.076169 from DATE-OBS'. [astropy.wcs.wcs]\n"
     ]
    },
    {
     "name": "stdout",
     "output_type": "stream",
     "text": [
      "Aperture: SkyCircularAperture\n",
      "positions: <SkyCoord (ICRS): (ra, dec) in deg\n",
      "    (314.39542, -0.68987)>\n",
      "r: 4.8 arcsec\n"
     ]
    },
    {
     "name": "stderr",
     "output_type": "stream",
     "text": [
      "WARNING: FITSFixedWarning: 'datfix' made the change 'Set MJD-OBS to 59824.076667 from DATE-OBS'. [astropy.wcs.wcs]\n",
      "WARNING: FITSFixedWarning: 'datfix' made the change 'Set MJD-OBS to 59824.077153 from DATE-OBS'. [astropy.wcs.wcs]\n"
     ]
    },
    {
     "name": "stdout",
     "output_type": "stream",
     "text": [
      "Aperture: SkyCircularAperture\n",
      "positions: <SkyCoord (ICRS): (ra, dec) in deg\n",
      "    (314.39536, -0.68985)>\n",
      "r: 4.8 arcsec\n",
      "Aperture: SkyCircularAperture\n",
      "positions: <SkyCoord (ICRS): (ra, dec) in deg\n",
      "    (314.39531, -0.68983)>\n",
      "r: 4.8 arcsec\n"
     ]
    },
    {
     "name": "stderr",
     "output_type": "stream",
     "text": [
      "WARNING: FITSFixedWarning: 'datfix' made the change 'Set MJD-OBS to 59824.077639 from DATE-OBS'. [astropy.wcs.wcs]\n"
     ]
    },
    {
     "name": "stdout",
     "output_type": "stream",
     "text": [
      "Aperture: SkyCircularAperture\n",
      "positions: <SkyCoord (ICRS): (ra, dec) in deg\n",
      "    (314.39525, -0.68981)>\n",
      "r: 4.8 arcsec\n"
     ]
    },
    {
     "name": "stderr",
     "output_type": "stream",
     "text": [
      "WARNING: FITSFixedWarning: 'datfix' made the change 'Set MJD-OBS to 59824.078125 from DATE-OBS'. [astropy.wcs.wcs]\n"
     ]
    },
    {
     "name": "stdout",
     "output_type": "stream",
     "text": [
      "Aperture: SkyCircularAperture\n",
      "positions: <SkyCoord (ICRS): (ra, dec) in deg\n",
      "    (314.3952, -0.6898)>\n",
      "r: 4.8 arcsec\n"
     ]
    },
    {
     "name": "stderr",
     "output_type": "stream",
     "text": [
      "WARNING: FITSFixedWarning: 'datfix' made the change 'Set MJD-OBS to 59824.078611 from DATE-OBS'. [astropy.wcs.wcs]\n"
     ]
    },
    {
     "name": "stdout",
     "output_type": "stream",
     "text": [
      "Aperture: SkyCircularAperture\n",
      "positions: <SkyCoord (ICRS): (ra, dec) in deg\n",
      "    (314.39514, -0.68978)>\n",
      "r: 4.8 arcsec\n"
     ]
    },
    {
     "name": "stderr",
     "output_type": "stream",
     "text": [
      "WARNING: FITSFixedWarning: 'datfix' made the change 'Set MJD-OBS to 59824.079109 from DATE-OBS'. [astropy.wcs.wcs]\n"
     ]
    },
    {
     "name": "stdout",
     "output_type": "stream",
     "text": [
      "Aperture: SkyCircularAperture\n",
      "positions: <SkyCoord (ICRS): (ra, dec) in deg\n",
      "    (314.39508, -0.68976)>\n",
      "r: 4.8 arcsec\n"
     ]
    },
    {
     "name": "stderr",
     "output_type": "stream",
     "text": [
      "WARNING: FITSFixedWarning: 'datfix' made the change 'Set MJD-OBS to 59824.079595 from DATE-OBS'. [astropy.wcs.wcs]\n"
     ]
    },
    {
     "name": "stdout",
     "output_type": "stream",
     "text": [
      "Aperture: SkyCircularAperture\n",
      "positions: <SkyCoord (ICRS): (ra, dec) in deg\n",
      "    (314.39503, -0.68974)>\n",
      "r: 4.8 arcsec\n"
     ]
    },
    {
     "name": "stderr",
     "output_type": "stream",
     "text": [
      "WARNING: FITSFixedWarning: 'datfix' made the change 'Set MJD-OBS to 59824.080081 from DATE-OBS'. [astropy.wcs.wcs]\n"
     ]
    },
    {
     "name": "stdout",
     "output_type": "stream",
     "text": [
      "Aperture: SkyCircularAperture\n",
      "positions: <SkyCoord (ICRS): (ra, dec) in deg\n",
      "    (314.39497, -0.68972)>\n",
      "r: 4.8 arcsec\n"
     ]
    },
    {
     "name": "stderr",
     "output_type": "stream",
     "text": [
      "WARNING: FITSFixedWarning: 'datfix' made the change 'Set MJD-OBS to 59824.080567 from DATE-OBS'. [astropy.wcs.wcs]\n"
     ]
    },
    {
     "name": "stdout",
     "output_type": "stream",
     "text": [
      "Aperture: SkyCircularAperture\n",
      "positions: <SkyCoord (ICRS): (ra, dec) in deg\n",
      "    (314.39491, -0.6897)>\n",
      "r: 4.8 arcsec\n"
     ]
    },
    {
     "name": "stderr",
     "output_type": "stream",
     "text": [
      "WARNING: FITSFixedWarning: 'datfix' made the change 'Set MJD-OBS to 59824.081053 from DATE-OBS'. [astropy.wcs.wcs]\n"
     ]
    },
    {
     "name": "stdout",
     "output_type": "stream",
     "text": [
      "Aperture: SkyCircularAperture\n",
      "positions: <SkyCoord (ICRS): (ra, dec) in deg\n",
      "    (314.39486, -0.68969)>\n",
      "r: 4.8 arcsec\n"
     ]
    },
    {
     "name": "stderr",
     "output_type": "stream",
     "text": [
      "WARNING: FITSFixedWarning: 'datfix' made the change 'Set MJD-OBS to 59824.081551 from DATE-OBS'. [astropy.wcs.wcs]\n"
     ]
    },
    {
     "name": "stdout",
     "output_type": "stream",
     "text": [
      "Aperture: SkyCircularAperture\n",
      "positions: <SkyCoord (ICRS): (ra, dec) in deg\n",
      "    (314.3948, -0.68967)>\n",
      "r: 4.8 arcsec\n"
     ]
    },
    {
     "name": "stderr",
     "output_type": "stream",
     "text": [
      "WARNING: FITSFixedWarning: 'datfix' made the change 'Set MJD-OBS to 59824.082037 from DATE-OBS'. [astropy.wcs.wcs]\n"
     ]
    },
    {
     "name": "stdout",
     "output_type": "stream",
     "text": [
      "Aperture: SkyCircularAperture\n",
      "positions: <SkyCoord (ICRS): (ra, dec) in deg\n",
      "    (314.39474, -0.68965)>\n",
      "r: 4.8 arcsec\n"
     ]
    },
    {
     "name": "stderr",
     "output_type": "stream",
     "text": [
      "WARNING: FITSFixedWarning: 'datfix' made the change 'Set MJD-OBS to 59824.082523 from DATE-OBS'. [astropy.wcs.wcs]\n"
     ]
    },
    {
     "name": "stdout",
     "output_type": "stream",
     "text": [
      "Aperture: SkyCircularAperture\n",
      "positions: <SkyCoord (ICRS): (ra, dec) in deg\n",
      "    (314.39469, -0.68963)>\n",
      "r: 4.8 arcsec\n"
     ]
    },
    {
     "name": "stderr",
     "output_type": "stream",
     "text": [
      "WARNING: FITSFixedWarning: 'datfix' made the change 'Set MJD-OBS to 59824.083009 from DATE-OBS'. [astropy.wcs.wcs]\n"
     ]
    },
    {
     "name": "stdout",
     "output_type": "stream",
     "text": [
      "Aperture: SkyCircularAperture\n",
      "positions: <SkyCoord (ICRS): (ra, dec) in deg\n",
      "    (314.39463, -0.68961)>\n",
      "r: 4.8 arcsec\n"
     ]
    },
    {
     "name": "stderr",
     "output_type": "stream",
     "text": [
      "WARNING: FITSFixedWarning: 'datfix' made the change 'Set MJD-OBS to 59824.083495 from DATE-OBS'. [astropy.wcs.wcs]\n"
     ]
    },
    {
     "name": "stdout",
     "output_type": "stream",
     "text": [
      "Aperture: SkyCircularAperture\n",
      "positions: <SkyCoord (ICRS): (ra, dec) in deg\n",
      "    (314.39458, -0.6896)>\n",
      "r: 4.8 arcsec\n"
     ]
    },
    {
     "name": "stderr",
     "output_type": "stream",
     "text": [
      "WARNING: FITSFixedWarning: 'datfix' made the change 'Set MJD-OBS to 59824.083981 from DATE-OBS'. [astropy.wcs.wcs]\n"
     ]
    },
    {
     "name": "stdout",
     "output_type": "stream",
     "text": [
      "Aperture: SkyCircularAperture\n",
      "positions: <SkyCoord (ICRS): (ra, dec) in deg\n",
      "    (314.39452, -0.68958)>\n",
      "r: 4.8 arcsec\n",
      "Aperture: SkyCircularAperture\n",
      "positions: <SkyCoord (ICRS): (ra, dec) in deg\n",
      "    (314.39446, -0.68956)>\n",
      "r: 4.8 arcsec\n"
     ]
    },
    {
     "name": "stderr",
     "output_type": "stream",
     "text": [
      "WARNING: FITSFixedWarning: 'datfix' made the change 'Set MJD-OBS to 59824.084479 from DATE-OBS'. [astropy.wcs.wcs]\n"
     ]
    },
    {
     "name": "stdout",
     "output_type": "stream",
     "text": [
      "Aperture: SkyCircularAperture\n",
      "positions: <SkyCoord (ICRS): (ra, dec) in deg\n",
      "    (314.39441, -0.68954)>\n",
      "r: 4.8 arcsec\n",
      "Aperture: SkyCircularAperture\n",
      "positions: <SkyCoord (ICRS): (ra, dec) in deg\n",
      "    (314.39435, -0.68952)>\n",
      "r: 4.8 arcsec\n"
     ]
    },
    {
     "name": "stderr",
     "output_type": "stream",
     "text": [
      "WARNING: FITSFixedWarning: 'datfix' made the change 'Set MJD-OBS to 59824.084965 from DATE-OBS'. [astropy.wcs.wcs]\n",
      "WARNING: FITSFixedWarning: 'datfix' made the change 'Set MJD-OBS to 59824.085451 from DATE-OBS'. [astropy.wcs.wcs]\n",
      "WARNING: FITSFixedWarning: 'datfix' made the change 'Set MJD-OBS to 59824.085938 from DATE-OBS'. [astropy.wcs.wcs]\n"
     ]
    },
    {
     "name": "stdout",
     "output_type": "stream",
     "text": [
      "Aperture: SkyCircularAperture\n",
      "positions: <SkyCoord (ICRS): (ra, dec) in deg\n",
      "    (314.39429, -0.6895)>\n",
      "r: 4.8 arcsec\n"
     ]
    },
    {
     "name": "stderr",
     "output_type": "stream",
     "text": [
      "WARNING: FITSFixedWarning: 'datfix' made the change 'Set MJD-OBS to 59824.086424 from DATE-OBS'. [astropy.wcs.wcs]\n"
     ]
    },
    {
     "name": "stdout",
     "output_type": "stream",
     "text": [
      "Aperture: SkyCircularAperture\n",
      "positions: <SkyCoord (ICRS): (ra, dec) in deg\n",
      "    (314.39424, -0.68949)>\n",
      "r: 4.8 arcsec\n"
     ]
    },
    {
     "name": "stderr",
     "output_type": "stream",
     "text": [
      "WARNING: FITSFixedWarning: 'datfix' made the change 'Set MJD-OBS to 59824.086921 from DATE-OBS'. [astropy.wcs.wcs]\n"
     ]
    },
    {
     "name": "stdout",
     "output_type": "stream",
     "text": [
      "Aperture: SkyCircularAperture\n",
      "positions: <SkyCoord (ICRS): (ra, dec) in deg\n",
      "    (314.39418, -0.68947)>\n",
      "r: 4.8 arcsec\n"
     ]
    },
    {
     "name": "stderr",
     "output_type": "stream",
     "text": [
      "WARNING: FITSFixedWarning: 'datfix' made the change 'Set MJD-OBS to 59824.087407 from DATE-OBS'. [astropy.wcs.wcs]\n"
     ]
    },
    {
     "name": "stdout",
     "output_type": "stream",
     "text": [
      "Aperture: SkyCircularAperture\n",
      "positions: <SkyCoord (ICRS): (ra, dec) in deg\n",
      "    (314.39412, -0.68945)>\n",
      "r: 4.8 arcsec\n"
     ]
    },
    {
     "name": "stderr",
     "output_type": "stream",
     "text": [
      "WARNING: FITSFixedWarning: 'datfix' made the change 'Set MJD-OBS to 59824.087894 from DATE-OBS'. [astropy.wcs.wcs]\n"
     ]
    },
    {
     "name": "stdout",
     "output_type": "stream",
     "text": [
      "Aperture: SkyCircularAperture\n",
      "positions: <SkyCoord (ICRS): (ra, dec) in deg\n",
      "    (314.39407, -0.68943)>\n",
      "r: 4.8 arcsec\n"
     ]
    },
    {
     "name": "stderr",
     "output_type": "stream",
     "text": [
      "WARNING: FITSFixedWarning: 'datfix' made the change 'Set MJD-OBS to 59824.088380 from DATE-OBS'. [astropy.wcs.wcs]\n"
     ]
    },
    {
     "name": "stdout",
     "output_type": "stream",
     "text": [
      "Aperture: SkyCircularAperture\n",
      "positions: <SkyCoord (ICRS): (ra, dec) in deg\n",
      "    (314.39401, -0.68941)>\n",
      "r: 4.8 arcsec\n"
     ]
    },
    {
     "name": "stderr",
     "output_type": "stream",
     "text": [
      "WARNING: FITSFixedWarning: 'datfix' made the change 'Set MJD-OBS to 59824.088866 from DATE-OBS'. [astropy.wcs.wcs]\n"
     ]
    },
    {
     "name": "stdout",
     "output_type": "stream",
     "text": [
      "Aperture: SkyCircularAperture\n",
      "positions: <SkyCoord (ICRS): (ra, dec) in deg\n",
      "    (314.39395, -0.6894)>\n",
      "r: 4.8 arcsec\n",
      "Aperture: SkyCircularAperture\n",
      "positions: <SkyCoord (ICRS): (ra, dec) in deg\n",
      "    (314.3939, -0.68938)>\n",
      "r: 4.8 arcsec\n"
     ]
    },
    {
     "name": "stderr",
     "output_type": "stream",
     "text": [
      "WARNING: FITSFixedWarning: 'datfix' made the change 'Set MJD-OBS to 59824.089352 from DATE-OBS'. [astropy.wcs.wcs]\n",
      "WARNING: FITSFixedWarning: 'datfix' made the change 'Set MJD-OBS to 59824.089850 from DATE-OBS'. [astropy.wcs.wcs]\n"
     ]
    },
    {
     "name": "stdout",
     "output_type": "stream",
     "text": [
      "Aperture: SkyCircularAperture\n",
      "positions: <SkyCoord (ICRS): (ra, dec) in deg\n",
      "    (314.39384, -0.68936)>\n",
      "r: 4.8 arcsec\n"
     ]
    },
    {
     "name": "stderr",
     "output_type": "stream",
     "text": [
      "WARNING: FITSFixedWarning: 'datfix' made the change 'Set MJD-OBS to 59824.090336 from DATE-OBS'. [astropy.wcs.wcs]\n"
     ]
    },
    {
     "name": "stdout",
     "output_type": "stream",
     "text": [
      "Aperture: SkyCircularAperture\n",
      "positions: <SkyCoord (ICRS): (ra, dec) in deg\n",
      "    (314.39378, -0.68934)>\n",
      "r: 4.8 arcsec\n"
     ]
    },
    {
     "name": "stderr",
     "output_type": "stream",
     "text": [
      "WARNING: FITSFixedWarning: 'datfix' made the change 'Set MJD-OBS to 59824.090822 from DATE-OBS'. [astropy.wcs.wcs]\n"
     ]
    },
    {
     "name": "stdout",
     "output_type": "stream",
     "text": [
      "Aperture: SkyCircularAperture\n",
      "positions: <SkyCoord (ICRS): (ra, dec) in deg\n",
      "    (314.39373, -0.68932)>\n",
      "r: 4.8 arcsec\n"
     ]
    },
    {
     "name": "stderr",
     "output_type": "stream",
     "text": [
      "WARNING: FITSFixedWarning: 'datfix' made the change 'Set MJD-OBS to 59824.091308 from DATE-OBS'. [astropy.wcs.wcs]\n"
     ]
    },
    {
     "name": "stdout",
     "output_type": "stream",
     "text": [
      "Aperture: SkyCircularAperture\n",
      "positions: <SkyCoord (ICRS): (ra, dec) in deg\n",
      "    (314.39367, -0.6893)>\n",
      "r: 4.8 arcsec\n"
     ]
    },
    {
     "name": "stderr",
     "output_type": "stream",
     "text": [
      "WARNING: FITSFixedWarning: 'datfix' made the change 'Set MJD-OBS to 59824.091794 from DATE-OBS'. [astropy.wcs.wcs]\n"
     ]
    },
    {
     "name": "stdout",
     "output_type": "stream",
     "text": [
      "Aperture: SkyCircularAperture\n",
      "positions: <SkyCoord (ICRS): (ra, dec) in deg\n",
      "    (314.39362, -0.68929)>\n",
      "r: 4.8 arcsec\n"
     ]
    },
    {
     "name": "stderr",
     "output_type": "stream",
     "text": [
      "WARNING: FITSFixedWarning: 'datfix' made the change 'Set MJD-OBS to 59824.092292 from DATE-OBS'. [astropy.wcs.wcs]\n",
      "WARNING: FITSFixedWarning: 'datfix' made the change 'Set MJD-OBS to 59824.092778 from DATE-OBS'. [astropy.wcs.wcs]\n"
     ]
    },
    {
     "name": "stdout",
     "output_type": "stream",
     "text": [
      "Aperture: SkyCircularAperture\n",
      "positions: <SkyCoord (ICRS): (ra, dec) in deg\n",
      "    (314.39356, -0.68927)>\n",
      "r: 4.8 arcsec\n",
      "Aperture: SkyCircularAperture\n",
      "positions: <SkyCoord (ICRS): (ra, dec) in deg\n",
      "    (314.3935, -0.68925)>\n",
      "r: 4.8 arcsec\n"
     ]
    },
    {
     "name": "stderr",
     "output_type": "stream",
     "text": [
      "WARNING: FITSFixedWarning: 'datfix' made the change 'Set MJD-OBS to 59824.093264 from DATE-OBS'. [astropy.wcs.wcs]\n"
     ]
    },
    {
     "name": "stdout",
     "output_type": "stream",
     "text": [
      "Aperture: SkyCircularAperture\n",
      "positions: <SkyCoord (ICRS): (ra, dec) in deg\n",
      "    (314.39345, -0.68923)>\n",
      "r: 4.8 arcsec\n"
     ]
    },
    {
     "name": "stderr",
     "output_type": "stream",
     "text": [
      "WARNING: FITSFixedWarning: 'datfix' made the change 'Set MJD-OBS to 59824.093750 from DATE-OBS'. [astropy.wcs.wcs]\n"
     ]
    },
    {
     "name": "stdout",
     "output_type": "stream",
     "text": [
      "Aperture: SkyCircularAperture\n",
      "positions: <SkyCoord (ICRS): (ra, dec) in deg\n",
      "    (314.39339, -0.68921)>\n",
      "r: 4.8 arcsec\n",
      "Aperture: SkyCircularAperture\n",
      "positions: <SkyCoord (ICRS): (ra, dec) in deg\n",
      "    (314.39333, -0.6892)>\n",
      "r: 4.8 arcsec\n"
     ]
    },
    {
     "name": "stderr",
     "output_type": "stream",
     "text": [
      "WARNING: FITSFixedWarning: 'datfix' made the change 'Set MJD-OBS to 59824.094236 from DATE-OBS'. [astropy.wcs.wcs]\n",
      "WARNING: FITSFixedWarning: 'datfix' made the change 'Set MJD-OBS to 59824.094722 from DATE-OBS'. [astropy.wcs.wcs]\n"
     ]
    },
    {
     "name": "stdout",
     "output_type": "stream",
     "text": [
      "Aperture: SkyCircularAperture\n",
      "positions: <SkyCoord (ICRS): (ra, dec) in deg\n",
      "    (314.39328, -0.68918)>\n",
      "r: 4.8 arcsec\n"
     ]
    },
    {
     "name": "stderr",
     "output_type": "stream",
     "text": [
      "WARNING: FITSFixedWarning: 'datfix' made the change 'Set MJD-OBS to 59824.095220 from DATE-OBS'. [astropy.wcs.wcs]\n"
     ]
    },
    {
     "name": "stdout",
     "output_type": "stream",
     "text": [
      "Aperture: SkyCircularAperture\n",
      "positions: <SkyCoord (ICRS): (ra, dec) in deg\n",
      "    (314.39322, -0.68916)>\n",
      "r: 4.8 arcsec\n"
     ]
    },
    {
     "name": "stderr",
     "output_type": "stream",
     "text": [
      "WARNING: FITSFixedWarning: 'datfix' made the change 'Set MJD-OBS to 59824.095706 from DATE-OBS'. [astropy.wcs.wcs]\n",
      "WARNING: FITSFixedWarning: 'datfix' made the change 'Set MJD-OBS to 59824.096192 from DATE-OBS'. [astropy.wcs.wcs]\n"
     ]
    },
    {
     "name": "stdout",
     "output_type": "stream",
     "text": [
      "Aperture: SkyCircularAperture\n",
      "positions: <SkyCoord (ICRS): (ra, dec) in deg\n",
      "    (314.39316, -0.68914)>\n",
      "r: 4.8 arcsec\n",
      "Aperture: SkyCircularAperture\n",
      "positions: <SkyCoord (ICRS): (ra, dec) in deg\n",
      "    (314.39311, -0.68912)>\n",
      "r: 4.8 arcsec\n"
     ]
    },
    {
     "name": "stderr",
     "output_type": "stream",
     "text": [
      "WARNING: FITSFixedWarning: 'datfix' made the change 'Set MJD-OBS to 59824.096678 from DATE-OBS'. [astropy.wcs.wcs]\n"
     ]
    },
    {
     "name": "stdout",
     "output_type": "stream",
     "text": [
      "Aperture: SkyCircularAperture\n",
      "positions: <SkyCoord (ICRS): (ra, dec) in deg\n",
      "    (314.39305, -0.6891)>\n",
      "r: 4.8 arcsec\n"
     ]
    },
    {
     "name": "stderr",
     "output_type": "stream",
     "text": [
      "WARNING: FITSFixedWarning: 'datfix' made the change 'Set MJD-OBS to 59824.097164 from DATE-OBS'. [astropy.wcs.wcs]\n"
     ]
    },
    {
     "name": "stdout",
     "output_type": "stream",
     "text": [
      "Aperture: SkyCircularAperture\n",
      "positions: <SkyCoord (ICRS): (ra, dec) in deg\n",
      "    (314.39299, -0.68909)>\n",
      "r: 4.8 arcsec\n"
     ]
    },
    {
     "name": "stderr",
     "output_type": "stream",
     "text": [
      "WARNING: FITSFixedWarning: 'datfix' made the change 'Set MJD-OBS to 59824.097662 from DATE-OBS'. [astropy.wcs.wcs]\n"
     ]
    },
    {
     "name": "stdout",
     "output_type": "stream",
     "text": [
      "Aperture: SkyCircularAperture\n",
      "positions: <SkyCoord (ICRS): (ra, dec) in deg\n",
      "    (314.39294, -0.68907)>\n",
      "r: 4.8 arcsec\n"
     ]
    },
    {
     "name": "stderr",
     "output_type": "stream",
     "text": [
      "WARNING: FITSFixedWarning: 'datfix' made the change 'Set MJD-OBS to 59824.098148 from DATE-OBS'. [astropy.wcs.wcs]\n"
     ]
    },
    {
     "name": "stdout",
     "output_type": "stream",
     "text": [
      "Aperture: SkyCircularAperture\n",
      "positions: <SkyCoord (ICRS): (ra, dec) in deg\n",
      "    (314.39288, -0.68905)>\n",
      "r: 4.8 arcsec\n"
     ]
    },
    {
     "name": "stderr",
     "output_type": "stream",
     "text": [
      "WARNING: FITSFixedWarning: 'datfix' made the change 'Set MJD-OBS to 59824.098634 from DATE-OBS'. [astropy.wcs.wcs]\n"
     ]
    },
    {
     "name": "stdout",
     "output_type": "stream",
     "text": [
      "Aperture: SkyCircularAperture\n",
      "positions: <SkyCoord (ICRS): (ra, dec) in deg\n",
      "    (314.39282, -0.68903)>\n",
      "r: 4.8 arcsec\n",
      "Aperture: SkyCircularAperture\n",
      "positions: <SkyCoord (ICRS): (ra, dec) in deg\n",
      "    (314.39277, -0.68901)>\n",
      "r: 4.8 arcsec\n",
      "Aperture: SkyCircularAperture\n",
      "positions: <SkyCoord (ICRS): (ra, dec) in deg\n",
      "    (314.39271, -0.689)>\n",
      "r: 4.8 arcsec\n"
     ]
    },
    {
     "name": "stderr",
     "output_type": "stream",
     "text": [
      "WARNING: FITSFixedWarning: 'datfix' made the change 'Set MJD-OBS to 59824.099120 from DATE-OBS'. [astropy.wcs.wcs]\n",
      "WARNING: FITSFixedWarning: 'datfix' made the change 'Set MJD-OBS to 59824.099606 from DATE-OBS'. [astropy.wcs.wcs]\n",
      "WARNING: FITSFixedWarning: 'datfix' made the change 'Set MJD-OBS to 59824.100104 from DATE-OBS'. [astropy.wcs.wcs]\n"
     ]
    },
    {
     "name": "stdout",
     "output_type": "stream",
     "text": [
      "Aperture: SkyCircularAperture\n",
      "positions: <SkyCoord (ICRS): (ra, dec) in deg\n",
      "    (314.39265, -0.68898)>\n",
      "r: 4.8 arcsec\n"
     ]
    },
    {
     "name": "stderr",
     "output_type": "stream",
     "text": [
      "WARNING: FITSFixedWarning: 'datfix' made the change 'Set MJD-OBS to 59824.100590 from DATE-OBS'. [astropy.wcs.wcs]\n"
     ]
    },
    {
     "name": "stdout",
     "output_type": "stream",
     "text": [
      "Aperture: SkyCircularAperture\n",
      "positions: <SkyCoord (ICRS): (ra, dec) in deg\n",
      "    (314.3926, -0.68896)>\n",
      "r: 4.8 arcsec\n"
     ]
    },
    {
     "name": "stderr",
     "output_type": "stream",
     "text": [
      "WARNING: FITSFixedWarning: 'datfix' made the change 'Set MJD-OBS to 59824.101076 from DATE-OBS'. [astropy.wcs.wcs]\n"
     ]
    },
    {
     "name": "stdout",
     "output_type": "stream",
     "text": [
      "Aperture: SkyCircularAperture\n",
      "positions: <SkyCoord (ICRS): (ra, dec) in deg\n",
      "    (314.39254, -0.68894)>\n",
      "r: 4.8 arcsec\n"
     ]
    },
    {
     "name": "stderr",
     "output_type": "stream",
     "text": [
      "WARNING: FITSFixedWarning: 'datfix' made the change 'Set MJD-OBS to 59824.101563 from DATE-OBS'. [astropy.wcs.wcs]\n"
     ]
    },
    {
     "name": "stdout",
     "output_type": "stream",
     "text": [
      "Aperture: SkyCircularAperture\n",
      "positions: <SkyCoord (ICRS): (ra, dec) in deg\n",
      "    (314.39248, -0.68892)>\n",
      "r: 4.8 arcsec\n"
     ]
    },
    {
     "name": "stderr",
     "output_type": "stream",
     "text": [
      "WARNING: FITSFixedWarning: 'datfix' made the change 'Set MJD-OBS to 59824.102049 from DATE-OBS'. [astropy.wcs.wcs]\n"
     ]
    },
    {
     "name": "stdout",
     "output_type": "stream",
     "text": [
      "Aperture: SkyCircularAperture\n",
      "positions: <SkyCoord (ICRS): (ra, dec) in deg\n",
      "    (314.39243, -0.6889)>\n",
      "r: 4.8 arcsec\n"
     ]
    },
    {
     "name": "stderr",
     "output_type": "stream",
     "text": [
      "WARNING: FITSFixedWarning: 'datfix' made the change 'Set MJD-OBS to 59824.102546 from DATE-OBS'. [astropy.wcs.wcs]\n"
     ]
    },
    {
     "name": "stdout",
     "output_type": "stream",
     "text": [
      "Aperture: SkyCircularAperture\n",
      "positions: <SkyCoord (ICRS): (ra, dec) in deg\n",
      "    (314.39237, -0.68889)>\n",
      "r: 4.8 arcsec\n"
     ]
    },
    {
     "name": "stderr",
     "output_type": "stream",
     "text": [
      "WARNING: FITSFixedWarning: 'datfix' made the change 'Set MJD-OBS to 59824.103032 from DATE-OBS'. [astropy.wcs.wcs]\n"
     ]
    },
    {
     "name": "stdout",
     "output_type": "stream",
     "text": [
      "Aperture: SkyCircularAperture\n",
      "positions: <SkyCoord (ICRS): (ra, dec) in deg\n",
      "    (314.39231, -0.68887)>\n",
      "r: 4.8 arcsec\n"
     ]
    },
    {
     "name": "stderr",
     "output_type": "stream",
     "text": [
      "WARNING: FITSFixedWarning: 'datfix' made the change 'Set MJD-OBS to 59824.103519 from DATE-OBS'. [astropy.wcs.wcs]\n",
      "WARNING: FITSFixedWarning: 'datfix' made the change 'Set MJD-OBS to 59824.104005 from DATE-OBS'. [astropy.wcs.wcs]\n"
     ]
    },
    {
     "name": "stdout",
     "output_type": "stream",
     "text": [
      "Aperture: SkyCircularAperture\n",
      "positions: <SkyCoord (ICRS): (ra, dec) in deg\n",
      "    (314.39226, -0.68885)>\n",
      "r: 4.8 arcsec\n",
      "Aperture: SkyCircularAperture\n",
      "positions: <SkyCoord (ICRS): (ra, dec) in deg\n",
      "    (314.3922, -0.68883)>\n",
      "r: 4.8 arcsec\n"
     ]
    },
    {
     "name": "stderr",
     "output_type": "stream",
     "text": [
      "WARNING: FITSFixedWarning: 'datfix' made the change 'Set MJD-OBS to 59824.104491 from DATE-OBS'. [astropy.wcs.wcs]\n"
     ]
    },
    {
     "name": "stdout",
     "output_type": "stream",
     "text": [
      "Aperture: SkyCircularAperture\n",
      "positions: <SkyCoord (ICRS): (ra, dec) in deg\n",
      "    (314.39215, -0.68881)>\n",
      "r: 4.8 arcsec\n",
      "Aperture: SkyCircularAperture\n",
      "positions: <SkyCoord (ICRS): (ra, dec) in deg\n",
      "    (314.39209, -0.6888)>\n",
      "r: 4.8 arcsec\n"
     ]
    },
    {
     "name": "stderr",
     "output_type": "stream",
     "text": [
      "WARNING: FITSFixedWarning: 'datfix' made the change 'Set MJD-OBS to 59824.104977 from DATE-OBS'. [astropy.wcs.wcs]\n"
     ]
    },
    {
     "name": "stdout",
     "output_type": "stream",
     "text": [
      "Aperture: SkyCircularAperture\n",
      "positions: <SkyCoord (ICRS): (ra, dec) in deg\n",
      "    (314.39203, -0.68878)>\n",
      "r: 4.8 arcsec\n",
      "Aperture: SkyCircularAperture\n",
      "positions: <SkyCoord (ICRS): (ra, dec) in deg\n",
      "    (314.39197, -0.68876)>\n",
      "r: 4.8 arcsec\n"
     ]
    },
    {
     "name": "stderr",
     "output_type": "stream",
     "text": [
      "WARNING: FITSFixedWarning: 'datfix' made the change 'Set MJD-OBS to 59824.105475 from DATE-OBS'. [astropy.wcs.wcs]\n",
      "WARNING: FITSFixedWarning: 'datfix' made the change 'Set MJD-OBS to 59824.105961 from DATE-OBS'. [astropy.wcs.wcs]\n",
      "WARNING: FITSFixedWarning: 'datfix' made the change 'Set MJD-OBS to 59824.106447 from DATE-OBS'. [astropy.wcs.wcs]\n"
     ]
    },
    {
     "name": "stdout",
     "output_type": "stream",
     "text": [
      "Aperture: SkyCircularAperture\n",
      "positions: <SkyCoord (ICRS): (ra, dec) in deg\n",
      "    (314.39192, -0.68874)>\n",
      "r: 4.8 arcsec\n"
     ]
    },
    {
     "name": "stderr",
     "output_type": "stream",
     "text": [
      "WARNING: FITSFixedWarning: 'datfix' made the change 'Set MJD-OBS to 59824.106933 from DATE-OBS'. [astropy.wcs.wcs]\n"
     ]
    },
    {
     "name": "stdout",
     "output_type": "stream",
     "text": [
      "Aperture: SkyCircularAperture\n",
      "positions: <SkyCoord (ICRS): (ra, dec) in deg\n",
      "    (314.39186, -0.68872)>\n",
      "r: 4.8 arcsec\n"
     ]
    },
    {
     "name": "stderr",
     "output_type": "stream",
     "text": [
      "WARNING: FITSFixedWarning: 'datfix' made the change 'Set MJD-OBS to 59824.107419 from DATE-OBS'. [astropy.wcs.wcs]\n"
     ]
    },
    {
     "name": "stdout",
     "output_type": "stream",
     "text": [
      "Aperture: SkyCircularAperture\n",
      "positions: <SkyCoord (ICRS): (ra, dec) in deg\n",
      "    (314.39181, -0.6887)>\n",
      "r: 4.8 arcsec\n"
     ]
    },
    {
     "name": "stderr",
     "output_type": "stream",
     "text": [
      "WARNING: FITSFixedWarning: 'datfix' made the change 'Set MJD-OBS to 59824.107917 from DATE-OBS'. [astropy.wcs.wcs]\n"
     ]
    },
    {
     "name": "stdout",
     "output_type": "stream",
     "text": [
      "Aperture: SkyCircularAperture\n",
      "positions: <SkyCoord (ICRS): (ra, dec) in deg\n",
      "    (314.39175, -0.68869)>\n",
      "r: 4.8 arcsec\n"
     ]
    },
    {
     "name": "stderr",
     "output_type": "stream",
     "text": [
      "WARNING: FITSFixedWarning: 'datfix' made the change 'Set MJD-OBS to 59824.108403 from DATE-OBS'. [astropy.wcs.wcs]\n"
     ]
    },
    {
     "name": "stdout",
     "output_type": "stream",
     "text": [
      "Aperture: SkyCircularAperture\n",
      "positions: <SkyCoord (ICRS): (ra, dec) in deg\n",
      "    (314.39169, -0.68867)>\n",
      "r: 4.8 arcsec\n"
     ]
    },
    {
     "name": "stderr",
     "output_type": "stream",
     "text": [
      "WARNING: FITSFixedWarning: 'datfix' made the change 'Set MJD-OBS to 59824.108889 from DATE-OBS'. [astropy.wcs.wcs]\n"
     ]
    },
    {
     "name": "stdout",
     "output_type": "stream",
     "text": [
      "Aperture: SkyCircularAperture\n",
      "positions: <SkyCoord (ICRS): (ra, dec) in deg\n",
      "    (314.39164, -0.68865)>\n",
      "r: 4.8 arcsec\n"
     ]
    },
    {
     "name": "stderr",
     "output_type": "stream",
     "text": [
      "WARNING: FITSFixedWarning: 'datfix' made the change 'Set MJD-OBS to 59824.109375 from DATE-OBS'. [astropy.wcs.wcs]\n"
     ]
    },
    {
     "name": "stdout",
     "output_type": "stream",
     "text": [
      "Aperture: SkyCircularAperture\n",
      "positions: <SkyCoord (ICRS): (ra, dec) in deg\n",
      "    (314.39158, -0.68863)>\n",
      "r: 4.8 arcsec\n",
      "Aperture: SkyCircularAperture\n",
      "positions: <SkyCoord (ICRS): (ra, dec) in deg\n",
      "    (314.39152, -0.68861)>\n",
      "r: 4.8 arcsec\n"
     ]
    },
    {
     "name": "stderr",
     "output_type": "stream",
     "text": [
      "WARNING: FITSFixedWarning: 'datfix' made the change 'Set MJD-OBS to 59824.109861 from DATE-OBS'. [astropy.wcs.wcs]\n"
     ]
    },
    {
     "name": "stdout",
     "output_type": "stream",
     "text": [
      "Aperture: SkyCircularAperture\n",
      "positions: <SkyCoord (ICRS): (ra, dec) in deg\n",
      "    (314.39147, -0.6886)>\n",
      "r: 4.8 arcsec\n",
      "Aperture: SkyCircularAperture\n",
      "positions: <SkyCoord (ICRS): (ra, dec) in deg\n",
      "    (314.39141, -0.68858)>\n",
      "r: 4.8 arcsec\n"
     ]
    },
    {
     "name": "stderr",
     "output_type": "stream",
     "text": [
      "WARNING: FITSFixedWarning: 'datfix' made the change 'Set MJD-OBS to 59824.110347 from DATE-OBS'. [astropy.wcs.wcs]\n",
      "WARNING: FITSFixedWarning: 'datfix' made the change 'Set MJD-OBS to 59824.110845 from DATE-OBS'. [astropy.wcs.wcs]\n",
      "WARNING: FITSFixedWarning: 'datfix' made the change 'Set MJD-OBS to 59824.111331 from DATE-OBS'. [astropy.wcs.wcs]\n"
     ]
    },
    {
     "name": "stdout",
     "output_type": "stream",
     "text": [
      "Aperture: SkyCircularAperture\n",
      "positions: <SkyCoord (ICRS): (ra, dec) in deg\n",
      "    (314.39135, -0.68856)>\n",
      "r: 4.8 arcsec\n"
     ]
    },
    {
     "name": "stderr",
     "output_type": "stream",
     "text": [
      "WARNING: FITSFixedWarning: 'datfix' made the change 'Set MJD-OBS to 59824.111817 from DATE-OBS'. [astropy.wcs.wcs]\n",
      "WARNING: FITSFixedWarning: 'datfix' made the change 'Set MJD-OBS to 59824.112303 from DATE-OBS'. [astropy.wcs.wcs]\n"
     ]
    },
    {
     "name": "stdout",
     "output_type": "stream",
     "text": [
      "Aperture: SkyCircularAperture\n",
      "positions: <SkyCoord (ICRS): (ra, dec) in deg\n",
      "    (314.3913, -0.68854)>\n",
      "r: 4.8 arcsec\n",
      "Aperture: SkyCircularAperture\n",
      "positions: <SkyCoord (ICRS): (ra, dec) in deg\n",
      "    (314.39124, -0.68852)>\n",
      "r: 4.8 arcsec\n"
     ]
    },
    {
     "name": "stderr",
     "output_type": "stream",
     "text": [
      "WARNING: FITSFixedWarning: 'datfix' made the change 'Set MJD-OBS to 59824.112789 from DATE-OBS'. [astropy.wcs.wcs]\n"
     ]
    },
    {
     "name": "stdout",
     "output_type": "stream",
     "text": [
      "Aperture: SkyCircularAperture\n",
      "positions: <SkyCoord (ICRS): (ra, dec) in deg\n",
      "    (314.39118, -0.6885)>\n",
      "r: 4.8 arcsec\n"
     ]
    },
    {
     "name": "stderr",
     "output_type": "stream",
     "text": [
      "WARNING: FITSFixedWarning: 'datfix' made the change 'Set MJD-OBS to 59824.113287 from DATE-OBS'. [astropy.wcs.wcs]\n"
     ]
    },
    {
     "name": "stdout",
     "output_type": "stream",
     "text": [
      "Aperture: SkyCircularAperture\n",
      "positions: <SkyCoord (ICRS): (ra, dec) in deg\n",
      "    (314.39113, -0.68849)>\n",
      "r: 4.8 arcsec\n"
     ]
    },
    {
     "name": "stderr",
     "output_type": "stream",
     "text": [
      "WARNING: FITSFixedWarning: 'datfix' made the change 'Set MJD-OBS to 59824.113773 from DATE-OBS'. [astropy.wcs.wcs]\n"
     ]
    },
    {
     "name": "stdout",
     "output_type": "stream",
     "text": [
      "Aperture: SkyCircularAperture\n",
      "positions: <SkyCoord (ICRS): (ra, dec) in deg\n",
      "    (314.39107, -0.68847)>\n",
      "r: 4.8 arcsec\n",
      "Aperture: SkyCircularAperture\n",
      "positions: <SkyCoord (ICRS): (ra, dec) in deg\n",
      "    (314.39101, -0.68845)>\n",
      "r: 4.8 arcsec\n"
     ]
    },
    {
     "name": "stderr",
     "output_type": "stream",
     "text": [
      "WARNING: FITSFixedWarning: 'datfix' made the change 'Set MJD-OBS to 59824.114259 from DATE-OBS'. [astropy.wcs.wcs]\n",
      "WARNING: FITSFixedWarning: 'datfix' made the change 'Set MJD-OBS to 59824.124873 from DATE-OBS'. [astropy.wcs.wcs]\n"
     ]
    },
    {
     "name": "stdout",
     "output_type": "stream",
     "text": [
      "Aperture: SkyCircularAperture\n",
      "positions: <SkyCoord (ICRS): (ra, dec) in deg\n",
      "    (314.38978, -0.68806)>\n",
      "r: 4.8 arcsec\n"
     ]
    },
    {
     "name": "stderr",
     "output_type": "stream",
     "text": [
      "WARNING: FITSFixedWarning: 'datfix' made the change 'Set MJD-OBS to 59824.125370 from DATE-OBS'. [astropy.wcs.wcs]\n"
     ]
    },
    {
     "name": "stdout",
     "output_type": "stream",
     "text": [
      "Aperture: SkyCircularAperture\n",
      "positions: <SkyCoord (ICRS): (ra, dec) in deg\n",
      "    (314.38972, -0.68804)>\n",
      "r: 4.8 arcsec\n"
     ]
    },
    {
     "name": "stderr",
     "output_type": "stream",
     "text": [
      "WARNING: FITSFixedWarning: 'datfix' made the change 'Set MJD-OBS to 59824.125856 from DATE-OBS'. [astropy.wcs.wcs]\n"
     ]
    },
    {
     "name": "stdout",
     "output_type": "stream",
     "text": [
      "Aperture: SkyCircularAperture\n",
      "positions: <SkyCoord (ICRS): (ra, dec) in deg\n",
      "    (314.38967, -0.68802)>\n",
      "r: 4.8 arcsec\n"
     ]
    },
    {
     "name": "stderr",
     "output_type": "stream",
     "text": [
      "WARNING: FITSFixedWarning: 'datfix' made the change 'Set MJD-OBS to 59824.126354 from DATE-OBS'. [astropy.wcs.wcs]\n",
      "WARNING: FITSFixedWarning: 'datfix' made the change 'Set MJD-OBS to 59824.126840 from DATE-OBS'. [astropy.wcs.wcs]\n"
     ]
    },
    {
     "name": "stdout",
     "output_type": "stream",
     "text": [
      "Aperture: SkyCircularAperture\n",
      "positions: <SkyCoord (ICRS): (ra, dec) in deg\n",
      "    (314.38961, -0.688)>\n",
      "r: 4.8 arcsec\n",
      "Aperture: SkyCircularAperture\n",
      "positions: <SkyCoord (ICRS): (ra, dec) in deg\n",
      "    (314.38955, -0.68798)>\n",
      "r: 4.8 arcsec\n"
     ]
    },
    {
     "name": "stderr",
     "output_type": "stream",
     "text": [
      "WARNING: FITSFixedWarning: 'datfix' made the change 'Set MJD-OBS to 59824.127326 from DATE-OBS'. [astropy.wcs.wcs]\n",
      "WARNING: FITSFixedWarning: 'datfix' made the change 'Set MJD-OBS to 59824.127813 from DATE-OBS'. [astropy.wcs.wcs]\n"
     ]
    },
    {
     "name": "stdout",
     "output_type": "stream",
     "text": [
      "Aperture: SkyCircularAperture\n",
      "positions: <SkyCoord (ICRS): (ra, dec) in deg\n",
      "    (314.3895, -0.68796)>\n",
      "r: 4.8 arcsec\n",
      "Aperture: SkyCircularAperture\n",
      "positions: <SkyCoord (ICRS): (ra, dec) in deg\n",
      "    (314.38944, -0.68795)>\n",
      "r: 4.8 arcsec\n"
     ]
    },
    {
     "name": "stderr",
     "output_type": "stream",
     "text": [
      "WARNING: FITSFixedWarning: 'datfix' made the change 'Set MJD-OBS to 59824.128299 from DATE-OBS'. [astropy.wcs.wcs]\n"
     ]
    },
    {
     "name": "stdout",
     "output_type": "stream",
     "text": [
      "Aperture: SkyCircularAperture\n",
      "positions: <SkyCoord (ICRS): (ra, dec) in deg\n",
      "    (314.38938, -0.68793)>\n",
      "r: 4.8 arcsec\n"
     ]
    },
    {
     "name": "stderr",
     "output_type": "stream",
     "text": [
      "WARNING: FITSFixedWarning: 'datfix' made the change 'Set MJD-OBS to 59824.128785 from DATE-OBS'. [astropy.wcs.wcs]\n"
     ]
    },
    {
     "name": "stdout",
     "output_type": "stream",
     "text": [
      "Aperture: SkyCircularAperture\n",
      "positions: <SkyCoord (ICRS): (ra, dec) in deg\n",
      "    (314.38933, -0.68791)>\n",
      "r: 4.8 arcsec\n"
     ]
    },
    {
     "name": "stderr",
     "output_type": "stream",
     "text": [
      "WARNING: FITSFixedWarning: 'datfix' made the change 'Set MJD-OBS to 59824.129271 from DATE-OBS'. [astropy.wcs.wcs]\n"
     ]
    },
    {
     "name": "stdout",
     "output_type": "stream",
     "text": [
      "Aperture: SkyCircularAperture\n",
      "positions: <SkyCoord (ICRS): (ra, dec) in deg\n",
      "    (314.38927, -0.68789)>\n",
      "r: 4.8 arcsec\n"
     ]
    },
    {
     "name": "stderr",
     "output_type": "stream",
     "text": [
      "WARNING: FITSFixedWarning: 'datfix' made the change 'Set MJD-OBS to 59824.129757 from DATE-OBS'. [astropy.wcs.wcs]\n"
     ]
    },
    {
     "name": "stdout",
     "output_type": "stream",
     "text": [
      "Aperture: SkyCircularAperture\n",
      "positions: <SkyCoord (ICRS): (ra, dec) in deg\n",
      "    (314.38922, -0.68787)>\n",
      "r: 4.8 arcsec\n"
     ]
    },
    {
     "name": "stderr",
     "output_type": "stream",
     "text": [
      "WARNING: FITSFixedWarning: 'datfix' made the change 'Set MJD-OBS to 59824.130255 from DATE-OBS'. [astropy.wcs.wcs]\n"
     ]
    },
    {
     "name": "stdout",
     "output_type": "stream",
     "text": [
      "Aperture: SkyCircularAperture\n",
      "positions: <SkyCoord (ICRS): (ra, dec) in deg\n",
      "    (314.38916, -0.68785)>\n",
      "r: 4.8 arcsec\n"
     ]
    },
    {
     "name": "stderr",
     "output_type": "stream",
     "text": [
      "WARNING: FITSFixedWarning: 'datfix' made the change 'Set MJD-OBS to 59824.130741 from DATE-OBS'. [astropy.wcs.wcs]\n"
     ]
    },
    {
     "name": "stdout",
     "output_type": "stream",
     "text": [
      "Aperture: SkyCircularAperture\n",
      "positions: <SkyCoord (ICRS): (ra, dec) in deg\n",
      "    (314.3891, -0.68784)>\n",
      "r: 4.8 arcsec\n",
      "Aperture: SkyCircularAperture\n",
      "positions: <SkyCoord (ICRS): (ra, dec) in deg\n",
      "    (314.38905, -0.68782)>\n",
      "r: 4.8 arcsec\n"
     ]
    },
    {
     "name": "stderr",
     "output_type": "stream",
     "text": [
      "WARNING: FITSFixedWarning: 'datfix' made the change 'Set MJD-OBS to 59824.131227 from DATE-OBS'. [astropy.wcs.wcs]\n",
      "WARNING: FITSFixedWarning: 'datfix' made the change 'Set MJD-OBS to 59824.131713 from DATE-OBS'. [astropy.wcs.wcs]\n"
     ]
    },
    {
     "name": "stdout",
     "output_type": "stream",
     "text": [
      "Aperture: SkyCircularAperture\n",
      "positions: <SkyCoord (ICRS): (ra, dec) in deg\n",
      "    (314.38899, -0.6878)>\n",
      "r: 4.8 arcsec\n",
      "Aperture: SkyCircularAperture\n",
      "positions: <SkyCoord (ICRS): (ra, dec) in deg\n",
      "    (314.38893, -0.68778)>\n",
      "r: 4.8 arcsec\n"
     ]
    },
    {
     "name": "stderr",
     "output_type": "stream",
     "text": [
      "WARNING: FITSFixedWarning: 'datfix' made the change 'Set MJD-OBS to 59824.132199 from DATE-OBS'. [astropy.wcs.wcs]\n",
      "WARNING: FITSFixedWarning: 'datfix' made the change 'Set MJD-OBS to 59824.132685 from DATE-OBS'. [astropy.wcs.wcs]\n"
     ]
    },
    {
     "name": "stdout",
     "output_type": "stream",
     "text": [
      "Aperture: SkyCircularAperture\n",
      "positions: <SkyCoord (ICRS): (ra, dec) in deg\n",
      "    (314.38888, -0.68776)>\n",
      "r: 4.8 arcsec\n"
     ]
    },
    {
     "name": "stderr",
     "output_type": "stream",
     "text": [
      "WARNING: FITSFixedWarning: 'datfix' made the change 'Set MJD-OBS to 59824.133171 from DATE-OBS'. [astropy.wcs.wcs]\n",
      "WARNING: FITSFixedWarning: 'datfix' made the change 'Set MJD-OBS to 59824.133657 from DATE-OBS'. [astropy.wcs.wcs]\n"
     ]
    },
    {
     "name": "stdout",
     "output_type": "stream",
     "text": [
      "Aperture: SkyCircularAperture\n",
      "positions: <SkyCoord (ICRS): (ra, dec) in deg\n",
      "    (314.38882, -0.68775)>\n",
      "r: 4.8 arcsec\n",
      "Aperture: SkyCircularAperture\n",
      "positions: <SkyCoord (ICRS): (ra, dec) in deg\n",
      "    (314.38876, -0.68773)>\n",
      "r: 4.8 arcsec\n"
     ]
    },
    {
     "name": "stderr",
     "output_type": "stream",
     "text": [
      "WARNING: FITSFixedWarning: 'datfix' made the change 'Set MJD-OBS to 59824.134144 from DATE-OBS'. [astropy.wcs.wcs]\n"
     ]
    },
    {
     "name": "stdout",
     "output_type": "stream",
     "text": [
      "Aperture: SkyCircularAperture\n",
      "positions: <SkyCoord (ICRS): (ra, dec) in deg\n",
      "    (314.38871, -0.68771)>\n",
      "r: 4.8 arcsec\n"
     ]
    },
    {
     "name": "stderr",
     "output_type": "stream",
     "text": [
      "WARNING: FITSFixedWarning: 'datfix' made the change 'Set MJD-OBS to 59824.134630 from DATE-OBS'. [astropy.wcs.wcs]\n",
      "WARNING: FITSFixedWarning: 'datfix' made the change 'Set MJD-OBS to 59824.135127 from DATE-OBS'. [astropy.wcs.wcs]\n"
     ]
    },
    {
     "name": "stdout",
     "output_type": "stream",
     "text": [
      "Aperture: SkyCircularAperture\n",
      "positions: <SkyCoord (ICRS): (ra, dec) in deg\n",
      "    (314.38865, -0.68769)>\n",
      "r: 4.8 arcsec\n",
      "Aperture: SkyCircularAperture\n",
      "positions: <SkyCoord (ICRS): (ra, dec) in deg\n",
      "    (314.38859, -0.68767)>\n",
      "r: 4.8 arcsec\n"
     ]
    },
    {
     "name": "stderr",
     "output_type": "stream",
     "text": [
      "WARNING: FITSFixedWarning: 'datfix' made the change 'Set MJD-OBS to 59824.135613 from DATE-OBS'. [astropy.wcs.wcs]\n",
      "WARNING: FITSFixedWarning: 'datfix' made the change 'Set MJD-OBS to 59824.136100 from DATE-OBS'. [astropy.wcs.wcs]\n"
     ]
    },
    {
     "name": "stdout",
     "output_type": "stream",
     "text": [
      "Aperture: SkyCircularAperture\n",
      "positions: <SkyCoord (ICRS): (ra, dec) in deg\n",
      "    (314.38854, -0.68766)>\n",
      "r: 4.8 arcsec\n",
      "Aperture: SkyCircularAperture\n",
      "positions: <SkyCoord (ICRS): (ra, dec) in deg\n",
      "    (314.38848, -0.68764)>\n",
      "r: 4.8 arcsec\n"
     ]
    },
    {
     "name": "stderr",
     "output_type": "stream",
     "text": [
      "WARNING: FITSFixedWarning: 'datfix' made the change 'Set MJD-OBS to 59824.136586 from DATE-OBS'. [astropy.wcs.wcs]\n"
     ]
    },
    {
     "name": "stdout",
     "output_type": "stream",
     "text": [
      "Aperture: SkyCircularAperture\n",
      "positions: <SkyCoord (ICRS): (ra, dec) in deg\n",
      "    (314.38842, -0.68762)>\n",
      "r: 4.8 arcsec\n",
      "Aperture: SkyCircularAperture\n",
      "positions: <SkyCoord (ICRS): (ra, dec) in deg\n",
      "    (314.38837, -0.6876)>\n",
      "r: 4.8 arcsec\n"
     ]
    },
    {
     "name": "stderr",
     "output_type": "stream",
     "text": [
      "WARNING: FITSFixedWarning: 'datfix' made the change 'Set MJD-OBS to 59824.137072 from DATE-OBS'. [astropy.wcs.wcs]\n",
      "WARNING: FITSFixedWarning: 'datfix' made the change 'Set MJD-OBS to 59824.137558 from DATE-OBS'. [astropy.wcs.wcs]\n"
     ]
    },
    {
     "name": "stdout",
     "output_type": "stream",
     "text": [
      "Aperture: SkyCircularAperture\n",
      "positions: <SkyCoord (ICRS): (ra, dec) in deg\n",
      "    (314.38831, -0.68758)>\n",
      "r: 4.8 arcsec\n"
     ]
    },
    {
     "name": "stderr",
     "output_type": "stream",
     "text": [
      "WARNING: FITSFixedWarning: 'datfix' made the change 'Set MJD-OBS to 59824.138044 from DATE-OBS'. [astropy.wcs.wcs]\n"
     ]
    },
    {
     "name": "stdout",
     "output_type": "stream",
     "text": [
      "Aperture: SkyCircularAperture\n",
      "positions: <SkyCoord (ICRS): (ra, dec) in deg\n",
      "    (314.38826, -0.68757)>\n",
      "r: 4.8 arcsec\n"
     ]
    },
    {
     "name": "stderr",
     "output_type": "stream",
     "text": [
      "WARNING: FITSFixedWarning: 'datfix' made the change 'Set MJD-OBS to 59824.138530 from DATE-OBS'. [astropy.wcs.wcs]\n"
     ]
    },
    {
     "name": "stdout",
     "output_type": "stream",
     "text": [
      "Aperture: SkyCircularAperture\n",
      "positions: <SkyCoord (ICRS): (ra, dec) in deg\n",
      "    (314.3882, -0.68755)>\n",
      "r: 4.8 arcsec\n"
     ]
    },
    {
     "name": "stderr",
     "output_type": "stream",
     "text": [
      "WARNING: FITSFixedWarning: 'datfix' made the change 'Set MJD-OBS to 59824.139028 from DATE-OBS'. [astropy.wcs.wcs]\n"
     ]
    },
    {
     "name": "stdout",
     "output_type": "stream",
     "text": [
      "Aperture: SkyCircularAperture\n",
      "positions: <SkyCoord (ICRS): (ra, dec) in deg\n",
      "    (314.38814, -0.68753)>\n",
      "r: 4.8 arcsec\n"
     ]
    },
    {
     "name": "stderr",
     "output_type": "stream",
     "text": [
      "WARNING: FITSFixedWarning: 'datfix' made the change 'Set MJD-OBS to 59824.139514 from DATE-OBS'. [astropy.wcs.wcs]\n",
      "WARNING: FITSFixedWarning: 'datfix' made the change 'Set MJD-OBS to 59824.140000 from DATE-OBS'. [astropy.wcs.wcs]\n"
     ]
    },
    {
     "name": "stdout",
     "output_type": "stream",
     "text": [
      "Aperture: SkyCircularAperture\n",
      "positions: <SkyCoord (ICRS): (ra, dec) in deg\n",
      "    (314.38808, -0.68751)>\n",
      "r: 4.8 arcsec\n",
      "Aperture: SkyCircularAperture\n",
      "positions: <SkyCoord (ICRS): (ra, dec) in deg\n",
      "    (314.38803, -0.68749)>\n",
      "r: 4.8 arcsec\n"
     ]
    },
    {
     "name": "stderr",
     "output_type": "stream",
     "text": [
      "WARNING: FITSFixedWarning: 'datfix' made the change 'Set MJD-OBS to 59824.140486 from DATE-OBS'. [astropy.wcs.wcs]\n",
      "WARNING: FITSFixedWarning: 'datfix' made the change 'Set MJD-OBS to 59824.140972 from DATE-OBS'. [astropy.wcs.wcs]\n"
     ]
    },
    {
     "name": "stdout",
     "output_type": "stream",
     "text": [
      "Aperture: SkyCircularAperture\n",
      "positions: <SkyCoord (ICRS): (ra, dec) in deg\n",
      "    (314.38797, -0.68747)>\n",
      "r: 4.8 arcsec\n",
      "Aperture: SkyCircularAperture\n",
      "positions: <SkyCoord (ICRS): (ra, dec) in deg\n",
      "    (314.38792, -0.68746)>\n",
      "r: 4.8 arcsec\n"
     ]
    },
    {
     "name": "stderr",
     "output_type": "stream",
     "text": [
      "WARNING: FITSFixedWarning: 'datfix' made the change 'Set MJD-OBS to 59824.141458 from DATE-OBS'. [astropy.wcs.wcs]\n"
     ]
    },
    {
     "name": "stdout",
     "output_type": "stream",
     "text": [
      "Aperture: SkyCircularAperture\n",
      "positions: <SkyCoord (ICRS): (ra, dec) in deg\n",
      "    (314.38786, -0.68744)>\n",
      "r: 4.8 arcsec\n"
     ]
    },
    {
     "name": "stderr",
     "output_type": "stream",
     "text": [
      "WARNING: FITSFixedWarning: 'datfix' made the change 'Set MJD-OBS to 59824.141944 from DATE-OBS'. [astropy.wcs.wcs]\n"
     ]
    },
    {
     "name": "stdout",
     "output_type": "stream",
     "text": [
      "Aperture: SkyCircularAperture\n",
      "positions: <SkyCoord (ICRS): (ra, dec) in deg\n",
      "    (314.3878, -0.68742)>\n",
      "r: 4.8 arcsec\n"
     ]
    },
    {
     "name": "stderr",
     "output_type": "stream",
     "text": [
      "WARNING: FITSFixedWarning: 'datfix' made the change 'Set MJD-OBS to 59824.142431 from DATE-OBS'. [astropy.wcs.wcs]\n"
     ]
    },
    {
     "name": "stdout",
     "output_type": "stream",
     "text": [
      "Aperture: SkyCircularAperture\n",
      "positions: <SkyCoord (ICRS): (ra, dec) in deg\n",
      "    (314.38775, -0.6874)>\n",
      "r: 4.8 arcsec\n",
      "Aperture: SkyCircularAperture\n",
      "positions: <SkyCoord (ICRS): (ra, dec) in deg\n",
      "    (314.38769, -0.68738)>\n",
      "r: 4.8 arcsec\n"
     ]
    },
    {
     "name": "stderr",
     "output_type": "stream",
     "text": [
      "WARNING: FITSFixedWarning: 'datfix' made the change 'Set MJD-OBS to 59824.142917 from DATE-OBS'. [astropy.wcs.wcs]\n",
      "WARNING: FITSFixedWarning: 'datfix' made the change 'Set MJD-OBS to 59824.143414 from DATE-OBS'. [astropy.wcs.wcs]\n"
     ]
    },
    {
     "name": "stdout",
     "output_type": "stream",
     "text": [
      "Aperture: SkyCircularAperture\n",
      "positions: <SkyCoord (ICRS): (ra, dec) in deg\n",
      "    (314.38763, -0.68737)>\n",
      "r: 4.8 arcsec\n",
      "Aperture: SkyCircularAperture\n",
      "positions: <SkyCoord (ICRS): (ra, dec) in deg\n",
      "    (314.38758, -0.68735)>\n",
      "r: 4.8 arcsec\n"
     ]
    },
    {
     "name": "stderr",
     "output_type": "stream",
     "text": [
      "WARNING: FITSFixedWarning: 'datfix' made the change 'Set MJD-OBS to 59824.143900 from DATE-OBS'. [astropy.wcs.wcs]\n",
      "WARNING: FITSFixedWarning: 'datfix' made the change 'Set MJD-OBS to 59824.144387 from DATE-OBS'. [astropy.wcs.wcs]\n"
     ]
    },
    {
     "name": "stdout",
     "output_type": "stream",
     "text": [
      "Aperture: SkyCircularAperture\n",
      "positions: <SkyCoord (ICRS): (ra, dec) in deg\n",
      "    (314.38752, -0.68733)>\n",
      "r: 4.8 arcsec\n"
     ]
    },
    {
     "name": "stderr",
     "output_type": "stream",
     "text": [
      "WARNING: FITSFixedWarning: 'datfix' made the change 'Set MJD-OBS to 59824.144873 from DATE-OBS'. [astropy.wcs.wcs]\n"
     ]
    },
    {
     "name": "stdout",
     "output_type": "stream",
     "text": [
      "Aperture: SkyCircularAperture\n",
      "positions: <SkyCoord (ICRS): (ra, dec) in deg\n",
      "    (314.38746, -0.68731)>\n",
      "r: 4.8 arcsec\n"
     ]
    },
    {
     "name": "stderr",
     "output_type": "stream",
     "text": [
      "WARNING: FITSFixedWarning: 'datfix' made the change 'Set MJD-OBS to 59824.145359 from DATE-OBS'. [astropy.wcs.wcs]\n"
     ]
    },
    {
     "name": "stdout",
     "output_type": "stream",
     "text": [
      "Aperture: SkyCircularAperture\n",
      "positions: <SkyCoord (ICRS): (ra, dec) in deg\n",
      "    (314.38741, -0.68729)>\n",
      "r: 4.8 arcsec\n"
     ]
    },
    {
     "name": "stderr",
     "output_type": "stream",
     "text": [
      "WARNING: FITSFixedWarning: 'datfix' made the change 'Set MJD-OBS to 59824.145845 from DATE-OBS'. [astropy.wcs.wcs]\n"
     ]
    },
    {
     "name": "stdout",
     "output_type": "stream",
     "text": [
      "Aperture: SkyCircularAperture\n",
      "positions: <SkyCoord (ICRS): (ra, dec) in deg\n",
      "    (314.38735, -0.68728)>\n",
      "r: 4.8 arcsec\n"
     ]
    },
    {
     "name": "stderr",
     "output_type": "stream",
     "text": [
      "WARNING: FITSFixedWarning: 'datfix' made the change 'Set MJD-OBS to 59824.146331 from DATE-OBS'. [astropy.wcs.wcs]\n",
      "WARNING: FITSFixedWarning: 'datfix' made the change 'Set MJD-OBS to 59824.146817 from DATE-OBS'. [astropy.wcs.wcs]\n"
     ]
    },
    {
     "name": "stdout",
     "output_type": "stream",
     "text": [
      "Aperture: SkyCircularAperture\n",
      "positions: <SkyCoord (ICRS): (ra, dec) in deg\n",
      "    (314.3873, -0.68726)>\n",
      "r: 4.8 arcsec\n",
      "Aperture: SkyCircularAperture\n",
      "positions: <SkyCoord (ICRS): (ra, dec) in deg\n",
      "    (314.38724, -0.68724)>\n",
      "r: 4.8 arcsec\n",
      "Aperture: SkyCircularAperture\n",
      "positions: <SkyCoord (ICRS): (ra, dec) in deg\n",
      "    (314.38718, -0.68722)>\n",
      "r: 4.8 arcsec\n"
     ]
    },
    {
     "name": "stderr",
     "output_type": "stream",
     "text": [
      "WARNING: FITSFixedWarning: 'datfix' made the change 'Set MJD-OBS to 59824.147315 from DATE-OBS'. [astropy.wcs.wcs]\n",
      "WARNING: FITSFixedWarning: 'datfix' made the change 'Set MJD-OBS to 59824.147801 from DATE-OBS'. [astropy.wcs.wcs]\n"
     ]
    },
    {
     "name": "stdout",
     "output_type": "stream",
     "text": [
      "Aperture: SkyCircularAperture\n",
      "positions: <SkyCoord (ICRS): (ra, dec) in deg\n",
      "    (314.38712, -0.6872)>\n",
      "r: 4.8 arcsec\n"
     ]
    },
    {
     "name": "stderr",
     "output_type": "stream",
     "text": [
      "WARNING: FITSFixedWarning: 'datfix' made the change 'Set MJD-OBS to 59824.148287 from DATE-OBS'. [astropy.wcs.wcs]\n"
     ]
    },
    {
     "name": "stdout",
     "output_type": "stream",
     "text": [
      "Aperture: SkyCircularAperture\n",
      "positions: <SkyCoord (ICRS): (ra, dec) in deg\n",
      "    (314.38707, -0.68718)>\n",
      "r: 4.8 arcsec\n"
     ]
    },
    {
     "name": "stderr",
     "output_type": "stream",
     "text": [
      "WARNING: FITSFixedWarning: 'datfix' made the change 'Set MJD-OBS to 59824.148773 from DATE-OBS'. [astropy.wcs.wcs]\n"
     ]
    },
    {
     "name": "stdout",
     "output_type": "stream",
     "text": [
      "Aperture: SkyCircularAperture\n",
      "positions: <SkyCoord (ICRS): (ra, dec) in deg\n",
      "    (314.38701, -0.68717)>\n",
      "r: 4.8 arcsec\n",
      "Aperture: SkyCircularAperture\n",
      "positions: <SkyCoord (ICRS): (ra, dec) in deg\n",
      "    (314.38696, -0.68715)>\n",
      "r: 4.8 arcsec\n"
     ]
    },
    {
     "name": "stderr",
     "output_type": "stream",
     "text": [
      "WARNING: FITSFixedWarning: 'datfix' made the change 'Set MJD-OBS to 59824.149259 from DATE-OBS'. [astropy.wcs.wcs]\n",
      "WARNING: FITSFixedWarning: 'datfix' made the change 'Set MJD-OBS to 59824.149745 from DATE-OBS'. [astropy.wcs.wcs]\n"
     ]
    },
    {
     "name": "stdout",
     "output_type": "stream",
     "text": [
      "Aperture: SkyCircularAperture\n",
      "positions: <SkyCoord (ICRS): (ra, dec) in deg\n",
      "    (314.3869, -0.68713)>\n",
      "r: 4.8 arcsec\n"
     ]
    },
    {
     "name": "stderr",
     "output_type": "stream",
     "text": [
      "WARNING: FITSFixedWarning: 'datfix' made the change 'Set MJD-OBS to 59824.150231 from DATE-OBS'. [astropy.wcs.wcs]\n"
     ]
    },
    {
     "name": "stdout",
     "output_type": "stream",
     "text": [
      "Aperture: SkyCircularAperture\n",
      "positions: <SkyCoord (ICRS): (ra, dec) in deg\n",
      "    (314.38684, -0.68711)>\n",
      "r: 4.8 arcsec\n"
     ]
    },
    {
     "name": "stderr",
     "output_type": "stream",
     "text": [
      "WARNING: FITSFixedWarning: 'datfix' made the change 'Set MJD-OBS to 59824.150718 from DATE-OBS'. [astropy.wcs.wcs]\n"
     ]
    },
    {
     "name": "stdout",
     "output_type": "stream",
     "text": [
      "Aperture: SkyCircularAperture\n",
      "positions: <SkyCoord (ICRS): (ra, dec) in deg\n",
      "    (314.38679, -0.68709)>\n",
      "r: 4.8 arcsec\n"
     ]
    },
    {
     "name": "stderr",
     "output_type": "stream",
     "text": [
      "WARNING: FITSFixedWarning: 'datfix' made the change 'Set MJD-OBS to 59824.151204 from DATE-OBS'. [astropy.wcs.wcs]\n",
      "WARNING: FITSFixedWarning: 'datfix' made the change 'Set MJD-OBS to 59824.151701 from DATE-OBS'. [astropy.wcs.wcs]\n"
     ]
    },
    {
     "name": "stdout",
     "output_type": "stream",
     "text": [
      "Aperture: SkyCircularAperture\n",
      "positions: <SkyCoord (ICRS): (ra, dec) in deg\n",
      "    (314.38673, -0.68708)>\n",
      "r: 4.8 arcsec\n",
      "Aperture: SkyCircularAperture\n",
      "positions: <SkyCoord (ICRS): (ra, dec) in deg\n",
      "    (314.38667, -0.68706)>\n",
      "r: 4.8 arcsec\n",
      "Aperture: SkyCircularAperture\n",
      "positions: <SkyCoord (ICRS): (ra, dec) in deg\n",
      "    (314.38662, -0.68704)>\n",
      "r: 4.8 arcsec\n"
     ]
    },
    {
     "name": "stderr",
     "output_type": "stream",
     "text": [
      "WARNING: FITSFixedWarning: 'datfix' made the change 'Set MJD-OBS to 59824.152188 from DATE-OBS'. [astropy.wcs.wcs]\n",
      "WARNING: FITSFixedWarning: 'datfix' made the change 'Set MJD-OBS to 59824.155521 from DATE-OBS'. [astropy.wcs.wcs]\n"
     ]
    },
    {
     "name": "stdout",
     "output_type": "stream",
     "text": [
      "Aperture: SkyCircularAperture\n",
      "positions: <SkyCoord (ICRS): (ra, dec) in deg\n",
      "    (314.38623, -0.68692)>\n",
      "r: 4.8 arcsec\n"
     ]
    },
    {
     "name": "stderr",
     "output_type": "stream",
     "text": [
      "WARNING: FITSFixedWarning: 'datfix' made the change 'Set MJD-OBS to 59824.156030 from DATE-OBS'. [astropy.wcs.wcs]\n"
     ]
    },
    {
     "name": "stdout",
     "output_type": "stream",
     "text": [
      "Aperture: SkyCircularAperture\n",
      "positions: <SkyCoord (ICRS): (ra, dec) in deg\n",
      "    (314.38617, -0.6869)>\n",
      "r: 4.8 arcsec\n"
     ]
    },
    {
     "name": "stderr",
     "output_type": "stream",
     "text": [
      "WARNING: FITSFixedWarning: 'datfix' made the change 'Set MJD-OBS to 59824.156516 from DATE-OBS'. [astropy.wcs.wcs]\n"
     ]
    },
    {
     "name": "stdout",
     "output_type": "stream",
     "text": [
      "Aperture: SkyCircularAperture\n",
      "positions: <SkyCoord (ICRS): (ra, dec) in deg\n",
      "    (314.38612, -0.68688)>\n",
      "r: 4.8 arcsec\n"
     ]
    },
    {
     "name": "stderr",
     "output_type": "stream",
     "text": [
      "WARNING: FITSFixedWarning: 'datfix' made the change 'Set MJD-OBS to 59824.157002 from DATE-OBS'. [astropy.wcs.wcs]\n"
     ]
    },
    {
     "name": "stdout",
     "output_type": "stream",
     "text": [
      "Aperture: SkyCircularAperture\n",
      "positions: <SkyCoord (ICRS): (ra, dec) in deg\n",
      "    (314.38606, -0.68686)>\n",
      "r: 4.8 arcsec\n"
     ]
    },
    {
     "name": "stderr",
     "output_type": "stream",
     "text": [
      "WARNING: FITSFixedWarning: 'datfix' made the change 'Set MJD-OBS to 59824.157488 from DATE-OBS'. [astropy.wcs.wcs]\n"
     ]
    },
    {
     "name": "stdout",
     "output_type": "stream",
     "text": [
      "Aperture: SkyCircularAperture\n",
      "positions: <SkyCoord (ICRS): (ra, dec) in deg\n",
      "    (314.386, -0.68684)>\n",
      "r: 4.8 arcsec\n"
     ]
    },
    {
     "name": "stderr",
     "output_type": "stream",
     "text": [
      "WARNING: FITSFixedWarning: 'datfix' made the change 'Set MJD-OBS to 59824.157975 from DATE-OBS'. [astropy.wcs.wcs]\n"
     ]
    },
    {
     "name": "stdout",
     "output_type": "stream",
     "text": [
      "Aperture: SkyCircularAperture\n",
      "positions: <SkyCoord (ICRS): (ra, dec) in deg\n",
      "    (314.38595, -0.68682)>\n",
      "r: 4.8 arcsec\n"
     ]
    },
    {
     "name": "stderr",
     "output_type": "stream",
     "text": [
      "WARNING: FITSFixedWarning: 'datfix' made the change 'Set MJD-OBS to 59824.158461 from DATE-OBS'. [astropy.wcs.wcs]\n",
      "WARNING: FITSFixedWarning: 'datfix' made the change 'Set MJD-OBS to 59824.158947 from DATE-OBS'. [astropy.wcs.wcs]\n"
     ]
    },
    {
     "name": "stdout",
     "output_type": "stream",
     "text": [
      "Aperture: SkyCircularAperture\n",
      "positions: <SkyCoord (ICRS): (ra, dec) in deg\n",
      "    (314.38589, -0.68681)>\n",
      "r: 4.8 arcsec\n",
      "Aperture: SkyCircularAperture\n",
      "positions: <SkyCoord (ICRS): (ra, dec) in deg\n",
      "    (314.38584, -0.68679)>\n",
      "r: 4.8 arcsec\n"
     ]
    },
    {
     "name": "stderr",
     "output_type": "stream",
     "text": [
      "WARNING: FITSFixedWarning: 'datfix' made the change 'Set MJD-OBS to 59824.159433 from DATE-OBS'. [astropy.wcs.wcs]\n",
      "WARNING: FITSFixedWarning: 'datfix' made the change 'Set MJD-OBS to 59824.159931 from DATE-OBS'. [astropy.wcs.wcs]\n"
     ]
    },
    {
     "name": "stdout",
     "output_type": "stream",
     "text": [
      "Aperture: SkyCircularAperture\n",
      "positions: <SkyCoord (ICRS): (ra, dec) in deg\n",
      "    (314.38578, -0.68677)>\n",
      "r: 4.8 arcsec\n",
      "Aperture: SkyCircularAperture\n",
      "positions: <SkyCoord (ICRS): (ra, dec) in deg\n",
      "    (314.38572, -0.68675)>\n",
      "r: 4.8 arcsec\n"
     ]
    },
    {
     "name": "stderr",
     "output_type": "stream",
     "text": [
      "WARNING: FITSFixedWarning: 'datfix' made the change 'Set MJD-OBS to 59824.160417 from DATE-OBS'. [astropy.wcs.wcs]\n"
     ]
    },
    {
     "name": "stdout",
     "output_type": "stream",
     "text": [
      "Aperture: SkyCircularAperture\n",
      "positions: <SkyCoord (ICRS): (ra, dec) in deg\n",
      "    (314.38567, -0.68673)>\n",
      "r: 4.8 arcsec\n"
     ]
    },
    {
     "name": "stderr",
     "output_type": "stream",
     "text": [
      "WARNING: FITSFixedWarning: 'datfix' made the change 'Set MJD-OBS to 59824.160903 from DATE-OBS'. [astropy.wcs.wcs]\n",
      "WARNING: FITSFixedWarning: 'datfix' made the change 'Set MJD-OBS to 59824.161389 from DATE-OBS'. [astropy.wcs.wcs]\n"
     ]
    },
    {
     "name": "stdout",
     "output_type": "stream",
     "text": [
      "Aperture: SkyCircularAperture\n",
      "positions: <SkyCoord (ICRS): (ra, dec) in deg\n",
      "    (314.38561, -0.68672)>\n",
      "r: 4.8 arcsec\n",
      "Aperture: SkyCircularAperture\n",
      "positions: <SkyCoord (ICRS): (ra, dec) in deg\n",
      "    (314.38555, -0.6867)>\n",
      "r: 4.8 arcsec\n"
     ]
    },
    {
     "name": "stderr",
     "output_type": "stream",
     "text": [
      "WARNING: FITSFixedWarning: 'datfix' made the change 'Set MJD-OBS to 59824.161875 from DATE-OBS'. [astropy.wcs.wcs]\n"
     ]
    },
    {
     "name": "stdout",
     "output_type": "stream",
     "text": [
      "Aperture: SkyCircularAperture\n",
      "positions: <SkyCoord (ICRS): (ra, dec) in deg\n",
      "    (314.3855, -0.68668)>\n",
      "r: 4.8 arcsec\n"
     ]
    },
    {
     "name": "stderr",
     "output_type": "stream",
     "text": [
      "WARNING: FITSFixedWarning: 'datfix' made the change 'Set MJD-OBS to 59824.162361 from DATE-OBS'. [astropy.wcs.wcs]\n"
     ]
    },
    {
     "name": "stdout",
     "output_type": "stream",
     "text": [
      "Aperture: SkyCircularAperture\n",
      "positions: <SkyCoord (ICRS): (ra, dec) in deg\n",
      "    (314.38544, -0.68666)>\n",
      "r: 4.8 arcsec\n"
     ]
    },
    {
     "name": "stderr",
     "output_type": "stream",
     "text": [
      "WARNING: FITSFixedWarning: 'datfix' made the change 'Set MJD-OBS to 59824.162847 from DATE-OBS'. [astropy.wcs.wcs]\n"
     ]
    },
    {
     "name": "stdout",
     "output_type": "stream",
     "text": [
      "Aperture: SkyCircularAperture\n",
      "positions: <SkyCoord (ICRS): (ra, dec) in deg\n",
      "    (314.38538, -0.68664)>\n",
      "r: 4.8 arcsec\n"
     ]
    },
    {
     "name": "stderr",
     "output_type": "stream",
     "text": [
      "WARNING: FITSFixedWarning: 'datfix' made the change 'Set MJD-OBS to 59824.163333 from DATE-OBS'. [astropy.wcs.wcs]\n"
     ]
    },
    {
     "name": "stdout",
     "output_type": "stream",
     "text": [
      "Aperture: SkyCircularAperture\n",
      "positions: <SkyCoord (ICRS): (ra, dec) in deg\n",
      "    (314.38533, -0.68663)>\n",
      "r: 4.8 arcsec\n"
     ]
    },
    {
     "name": "stderr",
     "output_type": "stream",
     "text": [
      "WARNING: FITSFixedWarning: 'datfix' made the change 'Set MJD-OBS to 59824.163831 from DATE-OBS'. [astropy.wcs.wcs]\n"
     ]
    },
    {
     "name": "stdout",
     "output_type": "stream",
     "text": [
      "Aperture: SkyCircularAperture\n",
      "positions: <SkyCoord (ICRS): (ra, dec) in deg\n",
      "    (314.38527, -0.68661)>\n",
      "r: 4.8 arcsec\n"
     ]
    },
    {
     "name": "stderr",
     "output_type": "stream",
     "text": [
      "WARNING: FITSFixedWarning: 'datfix' made the change 'Set MJD-OBS to 59824.164317 from DATE-OBS'. [astropy.wcs.wcs]\n"
     ]
    },
    {
     "name": "stdout",
     "output_type": "stream",
     "text": [
      "Aperture: SkyCircularAperture\n",
      "positions: <SkyCoord (ICRS): (ra, dec) in deg\n",
      "    (314.38521, -0.68659)>\n",
      "r: 4.8 arcsec\n"
     ]
    },
    {
     "name": "stderr",
     "output_type": "stream",
     "text": [
      "WARNING: FITSFixedWarning: 'datfix' made the change 'Set MJD-OBS to 59824.164803 from DATE-OBS'. [astropy.wcs.wcs]\n"
     ]
    },
    {
     "name": "stdout",
     "output_type": "stream",
     "text": [
      "Aperture: SkyCircularAperture\n",
      "positions: <SkyCoord (ICRS): (ra, dec) in deg\n",
      "    (314.38516, -0.68657)>\n",
      "r: 4.8 arcsec\n"
     ]
    },
    {
     "name": "stderr",
     "output_type": "stream",
     "text": [
      "WARNING: FITSFixedWarning: 'datfix' made the change 'Set MJD-OBS to 59824.165289 from DATE-OBS'. [astropy.wcs.wcs]\n",
      "WARNING: FITSFixedWarning: 'datfix' made the change 'Set MJD-OBS to 59824.165775 from DATE-OBS'. [astropy.wcs.wcs]\n"
     ]
    },
    {
     "name": "stdout",
     "output_type": "stream",
     "text": [
      "Aperture: SkyCircularAperture\n",
      "positions: <SkyCoord (ICRS): (ra, dec) in deg\n",
      "    (314.3851, -0.68655)>\n",
      "r: 4.8 arcsec\n",
      "Aperture: SkyCircularAperture\n",
      "positions: <SkyCoord (ICRS): (ra, dec) in deg\n",
      "    (314.38505, -0.68653)>\n",
      "r: 4.8 arcsec\n"
     ]
    },
    {
     "name": "stderr",
     "output_type": "stream",
     "text": [
      "WARNING: FITSFixedWarning: 'datfix' made the change 'Set MJD-OBS to 59824.166262 from DATE-OBS'. [astropy.wcs.wcs]\n"
     ]
    },
    {
     "name": "stdout",
     "output_type": "stream",
     "text": [
      "Aperture: SkyCircularAperture\n",
      "positions: <SkyCoord (ICRS): (ra, dec) in deg\n",
      "    (314.38499, -0.68652)>\n",
      "r: 4.8 arcsec\n",
      "Aperture: SkyCircularAperture\n",
      "positions: <SkyCoord (ICRS): (ra, dec) in deg\n",
      "    (314.38493, -0.6865)>\n",
      "r: 4.8 arcsec\n"
     ]
    },
    {
     "name": "stderr",
     "output_type": "stream",
     "text": [
      "WARNING: FITSFixedWarning: 'datfix' made the change 'Set MJD-OBS to 59824.166759 from DATE-OBS'. [astropy.wcs.wcs]\n",
      "WARNING: FITSFixedWarning: 'datfix' made the change 'Set MJD-OBS to 59824.167245 from DATE-OBS'. [astropy.wcs.wcs]\n"
     ]
    },
    {
     "name": "stdout",
     "output_type": "stream",
     "text": [
      "Aperture: SkyCircularAperture\n",
      "positions: <SkyCoord (ICRS): (ra, dec) in deg\n",
      "    (314.38488, -0.68648)>\n",
      "r: 4.8 arcsec\n"
     ]
    },
    {
     "name": "stderr",
     "output_type": "stream",
     "text": [
      "WARNING: FITSFixedWarning: 'datfix' made the change 'Set MJD-OBS to 59824.167731 from DATE-OBS'. [astropy.wcs.wcs]\n"
     ]
    },
    {
     "name": "stdout",
     "output_type": "stream",
     "text": [
      "Aperture: SkyCircularAperture\n",
      "positions: <SkyCoord (ICRS): (ra, dec) in deg\n",
      "    (314.38482, -0.68646)>\n",
      "r: 4.8 arcsec\n"
     ]
    },
    {
     "name": "stderr",
     "output_type": "stream",
     "text": [
      "WARNING: FITSFixedWarning: 'datfix' made the change 'Set MJD-OBS to 59824.168218 from DATE-OBS'. [astropy.wcs.wcs]\n"
     ]
    },
    {
     "name": "stdout",
     "output_type": "stream",
     "text": [
      "Aperture: SkyCircularAperture\n",
      "positions: <SkyCoord (ICRS): (ra, dec) in deg\n",
      "    (314.38476, -0.68644)>\n",
      "r: 4.8 arcsec\n",
      "Aperture: SkyCircularAperture\n",
      "positions: <SkyCoord (ICRS): (ra, dec) in deg\n",
      "    (314.38471, -0.68643)>\n",
      "r: 4.8 arcsec\n"
     ]
    },
    {
     "name": "stderr",
     "output_type": "stream",
     "text": [
      "WARNING: FITSFixedWarning: 'datfix' made the change 'Set MJD-OBS to 59824.168704 from DATE-OBS'. [astropy.wcs.wcs]\n"
     ]
    }
   ],
   "source": [
    "from astroquery.jplhorizons import Horizons\n",
    "\n",
    "Flux = []\n",
    "Flux_ref = []\n",
    "Times= []\n",
    "\n",
    "\n",
    "\n",
    "biasimages = glob.glob(fpath+'bias/*bias.fit')\n",
    "flatimages = glob.glob(fpath+'flat/*flat.fit')\n",
    "biaslists = []\n",
    "flatlists = []\n",
    "for i in biasimages:\n",
    "    biaslists.append(fits.open(i))\n",
    "for i in flatimages:\n",
    "    flatlists.append(fits.open(i))\n",
    "\n",
    "biasaverage = np.zeros((512, 2048))\n",
    "for k in biaslists:\n",
    "    biasaverage += k[0].data\n",
    "biasaverage = biasaverage / len(biaslists)\n",
    "\n",
    "flataverage = np.zeros((512, 2048))\n",
    "for k in flatlists:\n",
    "    flataverage += k[0].data\n",
    "flataverage = flataverage / len(flatlists)\n",
    "\n",
    "flatcorrect = np.zeros((512, 2048))\n",
    "for j in flatlists:\n",
    "    flatcorrect += (j[0].data - biasaverage)\n",
    "flatcorrect = flatcorrect / flataverage\n",
    "\n",
    "\n",
    "\n",
    "for i in range(len(mist)):\n",
    "    image_file = get_pkg_data_filename(mist[i])\n",
    "    hdul = fits.open(image_file)\n",
    "    hdu = hdul[0]\n",
    "    data = fits.getdata(image_file, ext=0)\n",
    "    wcs = WCS(hdu.header)\n",
    "    \n",
    "    Times.append(hdul[0].header['JD'])\n",
    "    obj = Horizons(id='1941 SJ', location='H81', epochs=hdul[0].header['JD'])\n",
    "    RA = obj.ephemerides()['RA'][0]\n",
    "    DEC = obj.ephemerides()['DEC'][0]\n",
    "    \n",
    "    c1 = SkyCoord('20:57:50.3355908660 -00:43:26.190526080', unit=(u.hourangle, u.deg))\n",
    "    c2 = SkyCoord('20:57:24.3835886736 -00:43:34.439038464', unit=(u.hourangle, u.deg))\n",
    "#     print(c1.ra.degree)\n",
    "#     print(c2.ra.degree)\n",
    "    RA_ref = [c1.ra.degree, c2.ra.degree]\n",
    "    DEC_ref = [c1.dec.degree, c2.dec.degree]\n",
    "    \n",
    "    positions = SkyCoord(RA, DEC, frame='icrs', unit = 'deg')\n",
    "    ref_stars = SkyCoord(RA_ref, DEC_ref, frame='icrs', unit = 'deg')\n",
    "    aperture = SkyCircularAperture(positions, r=4.8 * u.arcsec)  \n",
    "    aperture_ref = SkyCircularAperture(ref_stars, r=4.8 * u.arcsec)  \n",
    "    print(aperture)\n",
    "    phot_table = aperture_photometry(data/flatcorrect, aperture, wcs=wcs)  \n",
    "    phot_table_ref = aperture_photometry(data/flatcorrect, aperture_ref, wcs=wcs)\n",
    "    \n",
    "    Flux.append(phot_table['aperture_sum'].value)\n",
    "    Flux_ref.append(phot_table_ref['aperture_sum'].value)\n",
    "    \n",
    "    \n",
    "# print(obj.ephemerides()['RA'])\n",
    "# print(obj.ephemerides()['DEC'][0])"
   ]
  },
  {
   "cell_type": "code",
   "execution_count": 39,
   "id": "0a09ba32",
   "metadata": {},
   "outputs": [
    {
     "data": {
      "text/plain": [
       "[<matplotlib.lines.Line2D at 0x292685837f0>]"
      ]
     },
     "execution_count": 39,
     "metadata": {},
     "output_type": "execute_result"
    },
    {
     "data": {
      "image/png": "[encoded data removed]",
      "text/plain": [
       "<Figure size 432x288 with 1 Axes>"
      ]
     },
     "metadata": {
      "needs_background": "light"
     },
     "output_type": "display_data"
    }
   ],
   "source": [
    "import matplotlib.pyplot as plt\n",
    "plt.plot(Flux)"
   ]
  },
  {
   "cell_type": "code",
   "execution_count": 31,
   "id": "c1d795cb",
   "metadata": {},
   "outputs": [
    {
     "data": {
      "text/plain": [
       "[array([267209.22518806, 235012.88630303]),\n",
       " array([270286.80666314, 239224.92020211]),\n",
       " array([271775.54722603, 234625.46357236]),\n",
       " array([269775.211706 , 232444.9350433]),\n",
       " array([277729.48303359, 226214.02673115]),\n",
       " array([275005.06013266, 219487.64120074]),\n",
       " array([275357.78467259, 213100.66130811]),\n",
       " array([280184.08510196, 212096.49130179]),\n",
       " array([284576.43647326, 201211.62647122]),\n",
       " array([285967.64575171, 195169.45815374]),\n",
       " array([283954.26988702, 181114.75606919]),\n",
       " array([282638.33317158, 166963.63027691]),\n",
       " array([278801.36504224, 151313.05053387]),\n",
       " array([273842.26210177, 148010.55488132]),\n",
       " array([270168.48853834, 134737.62204888]),\n",
       " array([274787.49971686, 113920.09245672]),\n",
       " array([276414.57012336, 134963.76206277]),\n",
       " array([277369.49038663, 134297.31524044]),\n",
       " array([278387.00355928, 116465.20975915]),\n",
       " array([280847.45314881, 112272.34628645]),\n",
       " array([280575.36720022, 105156.44301485]),\n",
       " array([281534.80295509, 122906.50521849]),\n",
       " array([283537.03961435, 103490.42288453]),\n",
       " array([282757.30011314,  92178.3248222 ]),\n",
       " array([283872.00325088,  72638.60397338]),\n",
       " array([279644.0555402 ,  73892.45055326]),\n",
       " array([277618.61106098,  75380.02460055]),\n",
       " array([278889.07026619,  56598.78912208]),\n",
       " array([276451.16142857,  58357.08878426]),\n",
       " array([280733.08012867,  53077.89983897]),\n",
       " array([281543.62421161,  51647.51351108]),\n",
       " array([285807.5904015 ,  40776.30230696]),\n",
       " array([283982.32197256,  46799.75380344]),\n",
       " array([285623.809592  ,  34370.54075075]),\n",
       " array([281592.25921298,  41063.02091179]),\n",
       " array([283328.75465298,  39759.06231627]),\n",
       " array([284382.66013508,  25266.89349611]),\n",
       " array([283031.0828769 ,  24626.27988422]),\n",
       " array([281216.2877813,  26474.4788056]),\n",
       " array([276918.71758464,  32654.52578803]),\n",
       " array([274720.54824345,  23825.61664048]),\n",
       " array([266451.84363725,  16117.91963601]),\n",
       " array([261894.25907335,   9835.03951261]),\n",
       " array([258326.26532026,   6392.83935597]),\n",
       " array([259835.94009233,   4716.86833143]),\n",
       " array([255007.85736802,   4703.52780062]),\n",
       " array([257002.05667039,    430.655426  ]),\n",
       " array([246078.13014748,   2364.26019551]),\n",
       " array([246286.76114044,    782.32075693]),\n",
       " array([2.36361803e+05, 3.14040671e+01]),\n",
       " array([237280.00803875,             nan]),\n",
       " array([229261.35763484,             nan]),\n",
       " array([219369.01736591,             nan]),\n",
       " array([219970.23704354,             nan]),\n",
       " array([193258.2803835,            nan]),\n",
       " array([202182.69322945,             nan]),\n",
       " array([180221.88436454,             nan]),\n",
       " array([169758.93455768,             nan]),\n",
       " array([148150.07165017,             nan]),\n",
       " array([162757.81775629,             nan]),\n",
       " array([157701.17691799,             nan]),\n",
       " array([125249.47391765,             nan]),\n",
       " array([116934.04044117,             nan]),\n",
       " array([97140.44491845,            nan]),\n",
       " array([85195.34797327,            nan]),\n",
       " array([70527.99641198,            nan]),\n",
       " array([64783.11859067,            nan]),\n",
       " array([51487.69291243,            nan]),\n",
       " array([53943.19767073,            nan]),\n",
       " array([53915.94612168,            nan]),\n",
       " array([54777.39448119,            nan]),\n",
       " array([39001.03473426,            nan]),\n",
       " array([35927.10363575,            nan]),\n",
       " array([32824.58945562,            nan]),\n",
       " array([30653.51532627,            nan]),\n",
       " array([29631.74483596,            nan]),\n",
       " array([30337.67168293,            nan]),\n",
       " array([25540.15635003,            nan]),\n",
       " array([22917.36060439,            nan]),\n",
       " array([20124.87360239,            nan]),\n",
       " array([21413.54059149,            nan]),\n",
       " array([21136.45041713,            nan]),\n",
       " array([20705.72550356,            nan]),\n",
       " array([23585.49584111,            nan]),\n",
       " array([19518.46504622,            nan]),\n",
       " array([22304.19650133,            nan]),\n",
       " array([15824.17095238,            nan]),\n",
       " array([18766.98125577,            nan]),\n",
       " array([17369.21128367,            nan]),\n",
       " array([19003.05981647,            nan]),\n",
       " array([9018.46055869,           nan]),\n",
       " array([11839.89618632,            nan]),\n",
       " array([3016.44208427,           nan]),\n",
       " array([5583.04419879,           nan]),\n",
       " array([10655.38458474,            nan]),\n",
       " array([5202.26746419,           nan]),\n",
       " array([6144.60185695,           nan]),\n",
       " array([9228.98914212,           nan]),\n",
       " array([36.85344599,         nan]),\n",
       " array([7397.82457586,           nan]),\n",
       " array([nan, nan]),\n",
       " array([1851.82480611,           nan]),\n",
       " array([801.40730301,          nan]),\n",
       " array([nan, nan]),\n",
       " array([nan, nan]),\n",
       " array([nan, nan]),\n",
       " array([nan, nan]),\n",
       " array([nan, nan]),\n",
       " array([nan, nan]),\n",
       " array([nan, nan]),\n",
       " array([nan, nan]),\n",
       " array([nan, nan]),\n",
       " array([nan, nan]),\n",
       " array([nan, nan]),\n",
       " array([nan, nan]),\n",
       " array([nan, nan]),\n",
       " array([nan, nan]),\n",
       " array([nan, nan]),\n",
       " array([nan, nan]),\n",
       " array([nan, nan]),\n",
       " array([nan, nan]),\n",
       " array([nan, nan]),\n",
       " array([nan, nan]),\n",
       " array([nan, nan]),\n",
       " array([nan, nan]),\n",
       " array([nan, nan]),\n",
       " array([nan, nan]),\n",
       " array([nan, nan]),\n",
       " array([nan, nan]),\n",
       " array([nan, nan]),\n",
       " array([nan, nan]),\n",
       " array([nan, nan]),\n",
       " array([nan, nan]),\n",
       " array([nan, nan]),\n",
       " array([nan, nan]),\n",
       " array([nan, nan]),\n",
       " array([nan, nan]),\n",
       " array([nan, nan]),\n",
       " array([nan, nan]),\n",
       " array([nan, nan]),\n",
       " array([nan, nan]),\n",
       " array([nan, nan]),\n",
       " array([nan, nan]),\n",
       " array([nan, nan]),\n",
       " array([nan, nan]),\n",
       " array([nan, nan]),\n",
       " array([nan, nan]),\n",
       " array([nan, nan]),\n",
       " array([nan, nan]),\n",
       " array([nan, nan]),\n",
       " array([nan, nan]),\n",
       " array([nan, nan]),\n",
       " array([nan, nan]),\n",
       " array([nan, nan]),\n",
       " array([nan, nan]),\n",
       " array([nan, nan]),\n",
       " array([nan, nan]),\n",
       " array([nan, nan]),\n",
       " array([nan, nan]),\n",
       " array([nan, nan]),\n",
       " array([nan, nan]),\n",
       " array([nan, nan]),\n",
       " array([nan, nan]),\n",
       " array([nan, nan]),\n",
       " array([nan, nan]),\n",
       " array([nan, nan]),\n",
       " array([nan, nan]),\n",
       " array([nan, nan]),\n",
       " array([nan, nan]),\n",
       " array([nan, nan]),\n",
       " array([nan, nan]),\n",
       " array([nan, nan]),\n",
       " array([nan, nan]),\n",
       " array([nan, nan]),\n",
       " array([nan, nan]),\n",
       " array([nan, nan]),\n",
       " array([nan, nan]),\n",
       " array([nan, nan]),\n",
       " array([nan, nan]),\n",
       " array([nan, nan]),\n",
       " array([nan, nan]),\n",
       " array([nan, nan]),\n",
       " array([nan, nan]),\n",
       " array([nan, nan]),\n",
       " array([nan, nan]),\n",
       " array([nan, nan]),\n",
       " array([nan, nan]),\n",
       " array([nan, nan]),\n",
       " array([nan, nan]),\n",
       " array([nan, nan]),\n",
       " array([nan, nan]),\n",
       " array([nan, nan]),\n",
       " array([nan, nan]),\n",
       " array([nan, nan]),\n",
       " array([nan, nan]),\n",
       " array([nan, nan]),\n",
       " array([nan, nan]),\n",
       " array([nan, nan]),\n",
       " array([nan, nan]),\n",
       " array([nan, nan]),\n",
       " array([nan, nan]),\n",
       " array([nan, nan]),\n",
       " array([nan, nan]),\n",
       " array([nan, nan]),\n",
       " array([nan, nan]),\n",
       " array([nan, nan]),\n",
       " array([nan, nan]),\n",
       " array([nan, nan]),\n",
       " array([nan, nan]),\n",
       " array([nan, nan]),\n",
       " array([nan, nan]),\n",
       " array([nan, nan]),\n",
       " array([nan, nan]),\n",
       " array([nan, nan]),\n",
       " array([nan, nan])]"
      ]
     },
     "execution_count": 31,
     "metadata": {},
     "output_type": "execute_result"
    }
   ],
   "source": [
    "Flux_ref"
   ]
  },
  {
   "cell_type": "code",
   "execution_count": 4,
   "id": "10a60e26",
   "metadata": {},
   "outputs": [
    {
     "name": "stdout",
     "output_type": "stream",
     "text": [
      "314.45973162860827\n",
      "314.35159828613996\n"
     ]
    }
   ],
   "source": [
    "\n",
    "# RA:\n",
    "# 20h, 57m, 50.3355908660s\n",
    "# 20h 57m 24.3835886736s\n",
    "\n",
    "\n",
    "# DEC:\n",
    "# -004326.190526080\n",
    "# -004334.439038464\n",
    "#  '20:57:24.3835886736 -00:43:34.439038464'\n",
    "\n",
    "c1 = SkyCoord('20:57:50.3355908660 -00:43:26.190526080', unit=(u.hourangle, u.deg))\n",
    "c2 = SkyCoord('20:57:24.3835886736 -00:43:34.439038464', unit=(u.hourangle, u.deg))\n",
    "print(c1.ra.degree)\n",
    "print(c2.ra.degree)\n",
    "RA_ref = [c1.ra.degree, c2.ra.degree]\n",
    "DEC_ref = [c1.dec.degree, c2.dec.degree]"
   ]
  },
  {
   "cell_type": "code",
   "execution_count": 5,
   "id": "17035d6b",
   "metadata": {},
   "outputs": [],
   "source": [
    "from astropy.coordinates import ICRS, Galactic, FK4, FK5  # Low-level fram\n",
    "positions = SkyCoord(RA, DEC, frame='icrs', unit = 'deg')\n",
    "ref_stars = SkyCoord(RA_ref, DEC_ref, frame='icrs', unit = 'deg')\n",
    "\n",
    "# ref_stars = SkyCoord(RA, DEC, frame='icrs')\n",
    "aperture = SkyCircularAperture(positions, r=4.8 * u.arcsec)  \n",
    "aperture_ref = SkyCircularAperture(ref_stars, r=4.8 * u.arcsec)  "
   ]
  },
  {
   "cell_type": "code",
   "execution_count": 56,
   "id": "e2ec73bb",
   "metadata": {},
   "outputs": [
    {
     "ename": "AttributeError",
     "evalue": "'SkyCircularAperture' object has no attribute 'plot'",
     "output_type": "error",
     "traceback": [
      "\u001b[1;31m---------------------------------------------------------------------------\u001b[0m",
      "\u001b[1;31mAttributeError\u001b[0m                            Traceback (most recent call last)",
      "Input \u001b[1;32mIn [56]\u001b[0m, in \u001b[0;36m<cell line: 5>\u001b[1;34m()\u001b[0m\n\u001b[0;32m      1\u001b[0m norm \u001b[38;5;241m=\u001b[39m simple_norm(image_data, \u001b[38;5;124m'\u001b[39m\u001b[38;5;124mlog\u001b[39m\u001b[38;5;124m'\u001b[39m)\n\u001b[0;32m      3\u001b[0m plt\u001b[38;5;241m.\u001b[39mimshow(image_data, cmap\u001b[38;5;241m=\u001b[39m\u001b[38;5;124m'\u001b[39m\u001b[38;5;124mGreys\u001b[39m\u001b[38;5;124m'\u001b[39m, origin\u001b[38;5;241m=\u001b[39m\u001b[38;5;124m'\u001b[39m\u001b[38;5;124mlower\u001b[39m\u001b[38;5;124m'\u001b[39m, norm\u001b[38;5;241m=\u001b[39mnorm,\n\u001b[0;32m      4\u001b[0m            interpolation\u001b[38;5;241m=\u001b[39m\u001b[38;5;124m'\u001b[39m\u001b[38;5;124mnearest\u001b[39m\u001b[38;5;124m'\u001b[39m)\n\u001b[1;32m----> 5\u001b[0m \u001b[43maperture\u001b[49m\u001b[38;5;241;43m.\u001b[39;49m\u001b[43mplot\u001b[49m(color\u001b[38;5;241m=\u001b[39m\u001b[38;5;124m'\u001b[39m\u001b[38;5;124mblue\u001b[39m\u001b[38;5;124m'\u001b[39m, lw\u001b[38;5;241m=\u001b[39m\u001b[38;5;241m1.5\u001b[39m, alpha\u001b[38;5;241m=\u001b[39m\u001b[38;5;241m0.5\u001b[39m)\n",
      "\u001b[1;31mAttributeError\u001b[0m: 'SkyCircularAperture' object has no attribute 'plot'"
     ]
    },
    {
     "data": {
      "image/png": "[encoded data removed]",
      "text/plain": [
       "<Figure size 432x288 with 1 Axes>"
      ]
     },
     "metadata": {
      "needs_background": "light"
     },
     "output_type": "display_data"
    }
   ],
   "source": [
    "norm = simple_norm(image_data, 'log')\n",
    "\n",
    "plt.imshow(image_data, cmap='Greys', origin='lower', norm=norm,\n",
    "           interpolation='nearest')\n",
    "aperture.plot(color='blue', lw=1.5, alpha=0.5)"
   ]
  },
  {
   "cell_type": "code",
   "execution_count": 10,
   "id": "2c2fb1e6",
   "metadata": {},
   "outputs": [
    {
     "name": "stdout",
     "output_type": "stream",
     "text": [
      " id      xcenter           ycenter          sky_center        aperture_sum   \n",
      "           pix               pix             deg,deg                         \n",
      "--- ----------------- ----------------- ------------------ ------------------\n",
      "  1 967.7926484359531 394.5696694921405 314.39817,-0.69076 108524.19637146688\n",
      " id      xcenter       ...    aperture_sum   \n",
      "           pix         ...                   \n",
      "--- ------------------ ... ------------------\n",
      "  1 1630.4937832996218 ... 271775.54722602584\n",
      "  2  465.5623929290529 ...  234625.4635723625\n"
     ]
    }
   ],
   "source": [
    "from photutils.aperture import aperture_photometry\n",
    "phot_table = aperture_photometry(data, aperture, wcs=wcs)  \n",
    "phot_table_ref = aperture_photometry(data, aperture_ref, wcs=wcs)  \n",
    "\n",
    "print(phot_table)\n",
    "\n",
    "print(phot_table_ref)"
   ]
  },
  {
   "cell_type": "code",
   "execution_count": 13,
   "id": "425b4509",
   "metadata": {},
   "outputs": [
    {
     "data": {
      "text/plain": [
       "array([108524.19637147])"
      ]
     },
     "execution_count": 13,
     "metadata": {},
     "output_type": "execute_result"
    }
   ],
   "source": [
    "\n",
    "\n",
    "phot_table['aperture_sum'].value"
   ]
  },
  {
   "cell_type": "code",
   "execution_count": 58,
   "id": "0e936c7c",
   "metadata": {},
   "outputs": [
    {
     "ename": "NameError",
     "evalue": "name 'catalog' is not defined",
     "output_type": "error",
     "traceback": [
      "\u001b[1;31m---------------------------------------------------------------------------\u001b[0m",
      "\u001b[1;31mNameError\u001b[0m                                 Traceback (most recent call last)",
      "Input \u001b[1;32mIn [58]\u001b[0m, in \u001b[0;36m<cell line: 3>\u001b[1;34m()\u001b[0m\n\u001b[0;32m      1\u001b[0m \u001b[38;5;28;01mimport\u001b[39;00m \u001b[38;5;21;01mastropy\u001b[39;00m\u001b[38;5;21;01m.\u001b[39;00m\u001b[38;5;21;01munits\u001b[39;00m \u001b[38;5;28;01mas\u001b[39;00m \u001b[38;5;21;01mu\u001b[39;00m\n\u001b[0;32m      2\u001b[0m factor \u001b[38;5;241m=\u001b[39m (\u001b[38;5;241m1.2\u001b[39m \u001b[38;5;241m*\u001b[39m u\u001b[38;5;241m.\u001b[39marcsec) \u001b[38;5;241m*\u001b[39m\u001b[38;5;241m*\u001b[39m \u001b[38;5;241m2\u001b[39m \u001b[38;5;241m/\u001b[39m u\u001b[38;5;241m.\u001b[39mpixel\n\u001b[1;32m----> 3\u001b[0m fluxes_catalog \u001b[38;5;241m=\u001b[39m \u001b[43mcatalog\u001b[49m[\u001b[38;5;124m'\u001b[39m\u001b[38;5;124mf4_5\u001b[39m\u001b[38;5;124m'\u001b[39m]  \n\u001b[0;32m      4\u001b[0m converted_aperture_sum \u001b[38;5;241m=\u001b[39m (phot_table[\u001b[38;5;124m'\u001b[39m\u001b[38;5;124maperture_sum\u001b[39m\u001b[38;5;124m'\u001b[39m] \u001b[38;5;241m*\u001b[39m\n\u001b[0;32m      5\u001b[0m                           factor)\u001b[38;5;241m.\u001b[39mto(u\u001b[38;5;241m.\u001b[39mmJy \u001b[38;5;241m/\u001b[39m u\u001b[38;5;241m.\u001b[39mpixel)\n",
      "\u001b[1;31mNameError\u001b[0m: name 'catalog' is not defined"
     ]
    }
   ],
   "source": [
    "import astropy.units as u\n",
    "factor = (1.2 * u.arcsec) ** 2 / u.pixel\n",
    "fluxes_catalog = catalog['f4_5']  \n",
    "converted_aperture_sum = (phot_table['aperture_sum'] *\n",
    "                          factor).to(u.mJy / u.pixel)  "
   ]
  },
  {
   "cell_type": "code",
   "execution_count": 18,
   "id": "eaeed851",
   "metadata": {},
   "outputs": [
    {
     "data": {
      "text/plain": [
       "Text(0, 0.5, 'Aperture photometry fluxes')"
      ]
     },
     "execution_count": 18,
     "metadata": {},
     "output_type": "execute_result"
    },
    {
     "data": {
      "image/png": "[encoded data removed]",
      "text/plain": [
       "<Figure size 432x288 with 1 Axes>"
      ]
     },
     "metadata": {
      "needs_background": "light"
     },
     "output_type": "display_data"
    }
   ],
   "source": [
    "import matplotlib.pyplot as plt\n",
    "plt.scatter(fluxes_catalog, converted_aperture_sum.value)\n",
    "plt.xlabel('Spitzer catalog PSF-fit fluxes ')\n",
    "plt.ylabel('Aperture photometry fluxes')"
   ]
  },
  {
   "cell_type": "code",
   "execution_count": 19,
   "id": "f1d71994",
   "metadata": {},
   "outputs": [
    {
     "data": {
      "text/plain": [
       "<astropy.io.fits.hdu.image.PrimaryHDU at 0x1996c7f4ac0>"
      ]
     },
     "execution_count": 19,
     "metadata": {},
     "output_type": "execute_result"
    }
   ],
   "source": [
    "hdu"
   ]
  },
  {
   "cell_type": "code",
   "execution_count": 20,
   "id": "77028f9e",
   "metadata": {},
   "outputs": [
    {
     "data": {
      "text/plain": [
       "array([[160, 157, 159, ..., 159, 158, 158],\n",
       "       [160, 160, 158, ..., 161, 160, 159],\n",
       "       [160, 156, 159, ..., 163, 163, 160],\n",
       "       ...,\n",
       "       [156, 156, 157, ..., 160, 157, 158],\n",
       "       [159, 156, 159, ..., 160, 157, 156],\n",
       "       [158, 159, 157, ..., 159, 160, 156]], dtype=uint16)"
      ]
     },
     "execution_count": 20,
     "metadata": {},
     "output_type": "execute_result"
    }
   ],
   "source": [
    "fits.getdata(image_file)"
   ]
  },
  {
   "cell_type": "code",
   "execution_count": 24,
   "id": "e0c928d9",
   "metadata": {},
   "outputs": [
    {
     "data": {
      "text/plain": [
       "<astropy.io.fits.hdu.image.PrimaryHDU at 0x1996aaac910>"
      ]
     },
     "execution_count": 24,
     "metadata": {},
     "output_type": "execute_result"
    }
   ],
   "source": [
    "hdul[0]"
   ]
  },
  {
   "cell_type": "code",
   "execution_count": null,
   "id": "2701cf3f",
   "metadata": {},
   "outputs": [],
   "source": []
  }
 ],
 "metadata": {
  "kernelspec": {
   "display_name": "Python 3 (ipykernel)",
   "language": "python",
   "name": "python3"
  },
  "language_info": {
   "codemirror_mode": {
    "name": "ipython",
    "version": 3
   },
   "file_extension": ".py",
   "mimetype": "text/x-python",
   "name": "python",
   "nbconvert_exporter": "python",
   "pygments_lexer": "ipython3",
   "version": "3.9.12"
  }
 },
 "nbformat": 4,
 "nbformat_minor": 5
}
